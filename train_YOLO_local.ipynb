{
 "cells": [
  {
   "cell_type": "code",
   "execution_count": 4,
   "metadata": {
    "colab": {
     "base_uri": "https://localhost:8080/"
    },
    "id": "FAdyRp6JmExK",
    "outputId": "a626dbe0-d214-4925-d6ad-3d49eb741403"
   },
   "outputs": [],
   "source": [
    "import os\n",
    "import shutil\n",
    "import torch\n",
    "import argparse\n",
    "import tarfile\n",
    "import threading\n",
    "#from nuimages import NuImages\n",
    "from ultralytics import YOLO"
   ]
  },
  {
   "cell_type": "code",
   "execution_count": 5,
   "metadata": {
    "colab": {
     "base_uri": "https://localhost:8080/"
    },
    "id": "N53AeWylm9oo",
    "outputId": "4b7f3e49-c025-40cf-fa48-c3d0abd0123c"
   },
   "outputs": [
    {
     "name": "stdout",
     "output_type": "stream",
     "text": [
      "Torch CUDA is available: True\n",
      "CUDA version: 12.4\n",
      "Using device: cuda\n"
     ]
    }
   ],
   "source": [
    "print(\"Torch CUDA is available:\", torch.cuda.is_available())\n",
    "print(\"CUDA version:\", torch.version.cuda)\n",
    "\n",
    "# Verifique a disponibilidade da GPU\n",
    "device = torch.device(\"cuda\" if torch.cuda.is_available() else \"cpu\")\n",
    "print(\"Using device:\", device)"
   ]
  },
  {
   "cell_type": "code",
   "execution_count": 3,
   "metadata": {
    "id": "iWjzg7eIHJVP"
   },
   "outputs": [],
   "source": [
    "base_dir = 'dataset'\n",
    "extract_base_dir  = 'condenseDataset'\n",
    "os.makedirs(extract_base_dir, exist_ok=True)"
   ]
  },
  {
   "cell_type": "code",
   "execution_count": 4,
   "metadata": {
    "id": "Ahj1Q9sDGYp4"
   },
   "outputs": [],
   "source": [
    "def extract_tar(tar_path, extract_to):\n",
    "    try:\n",
    "        with tarfile.open(tar_path, 'r:gz') as tar:\n",
    "            tar.getmembers()\n",
    "            print(f\"{tar_path} passou na verificação de integridade.\")\n",
    "            tar.extractall(path=extract_to)\n",
    "            print(f\"Extraído com sucesso: {tar_path}\")\n",
    "    except (tarfile.ReadError, EOFError) as e:\n",
    "        print(f\"Erro ao extrair {tar_path}: {e}. Arquivo ignorado.\")\n",
    "\n",
    "def move_files(source_dir, dest_dir):\n",
    "    if os.path.exists(source_dir):\n",
    "        for filename in os.listdir(source_dir):\n",
    "            source_file = os.path.join(source_dir, filename)\n",
    "            dest_file = os.path.join(dest_dir, filename)\n",
    "            shutil.move(source_file, dest_file)"
   ]
  },
  {
   "cell_type": "code",
   "execution_count": 5,
   "metadata": {
    "colab": {
     "base_uri": "https://localhost:8080/"
    },
    "id": "mTBSA5xWzAtr",
    "outputId": "9ca943dd-0c28-4bfc-eb02-ce82adeef806"
   },
   "outputs": [
    {
     "name": "stdout",
     "output_type": "stream",
     "text": [
      "dataset\\n003.tar.gz passou na verificação de integridade.\n"
     ]
    },
    {
     "name": "stderr",
     "output_type": "stream",
     "text": [
      "C:\\Users\\PC\\AppData\\Local\\Temp\\ipykernel_11720\\2969126953.py:6: DeprecationWarning: Python 3.14 will, by default, filter extracted tar archives and reject files or modify their metadata. Use the filter argument to control this behavior.\n",
      "  tar.extractall(path=extract_to)\n"
     ]
    },
    {
     "name": "stdout",
     "output_type": "stream",
     "text": [
      "Extraído com sucesso: dataset\\n003.tar.gz\n",
      "dataset\\n004.tar.gz passou na verificação de integridade.\n",
      "Extraído com sucesso: dataset\\n004.tar.gz\n",
      "dataset\\n005.tar.gz passou na verificação de integridade.\n",
      "Extraído com sucesso: dataset\\n005.tar.gz\n",
      "dataset\\n006.tar.gz passou na verificação de integridade.\n",
      "Extraído com sucesso: dataset\\n006.tar.gz\n",
      "dataset\\n008.tar.gz passou na verificação de integridade.\n",
      "Extraído com sucesso: dataset\\n008.tar.gz\n",
      "dataset\\n009.tar.gz passou na verificação de integridade.\n",
      "Extraído com sucesso: dataset\\n009.tar.gz\n",
      "dataset\\n010.tar.gz passou na verificação de integridade.\n",
      "Extraído com sucesso: dataset\\n010.tar.gz\n",
      "dataset\\n013.tar.gz passou na verificação de integridade.\n",
      "Extraído com sucesso: dataset\\n013.tar.gz\n",
      "dataset\\n014.tar.gz passou na verificação de integridade.\n",
      "Extraído com sucesso: dataset\\n014.tar.gz\n",
      "dataset\\n015.tar.gz passou na verificação de integridade.\n",
      "Extraído com sucesso: dataset\\n015.tar.gz\n",
      "dataset\\n016.tar.gz passou na verificação de integridade.\n",
      "Extraído com sucesso: dataset\\n016.tar.gz\n",
      "Extração completa! Todos os arquivos válidos foram extraídos para condenseDataset\n"
     ]
    }
   ],
   "source": [
    "for tar_file in os.listdir(base_dir):\n",
    "    if tar_file.endswith('.tar.gz'):\n",
    "        tar_path = os.path.join(base_dir, tar_file)\n",
    "        extract_path = os.path.join(extract_base_dir, tar_file.replace('.tar.gz', ''))\n",
    "        os.makedirs(extract_path, exist_ok=True)\n",
    "        extract_tar(tar_path, extract_path)\n",
    "print(\"Extração completa! Todos os arquivos válidos foram extraídos para\", extract_base_dir)"
   ]
  },
  {
   "cell_type": "code",
   "execution_count": 8,
   "metadata": {},
   "outputs": [],
   "source": [
    "consolidated_dir = 'consolidated_dataset'"
   ]
  },
  {
   "cell_type": "code",
   "execution_count": 8,
   "metadata": {
    "colab": {
     "base_uri": "https://localhost:8080/"
    },
    "id": "qKG0JIkLbfmp",
    "outputId": "69f405af-a6c0-4329-f652-77f6e16ea786"
   },
   "outputs": [
    {
     "name": "stdout",
     "output_type": "stream",
     "text": [
      "A pasta de validação está ausente em images, ignorando.\n",
      "A pasta de validação de labels está ausente em images, ignorando.\n",
      "A pasta de validação está ausente em labels, ignorando.\n",
      "A pasta de validação de labels está ausente em labels, ignorando.\n",
      "Organização completa! As imagens e labels foram consolidados em consolidated_dataset\n"
     ]
    }
   ],
   "source": [
    "consolidated_dir = 'consolidated_dataset' # Caminho para a pasta consolidada onde os dados serão armazenados\n",
    "os.makedirs(consolidated_dir, exist_ok=True)\n",
    "\n",
    "# Crie as pastas consolidadas para imagens e labels, com subpastas de treino, validação e teste\n",
    "for category in ['images', 'labels']:\n",
    "    for split in ['train', 'val', 'test']:\n",
    "        os.makedirs(os.path.join(consolidated_dir, category, split), exist_ok=True)\n",
    "\n",
    "def move_files(source_dir, dest_dir):\n",
    "    if os.path.exists(source_dir):\n",
    "        for filename in os.listdir(source_dir):\n",
    "            source_file = os.path.join(source_dir, filename)\n",
    "            dest_file = os.path.join(dest_dir, filename)\n",
    "            shutil.move(source_file, dest_file)\n",
    "\n",
    "# Caminho base onde as pastas dos carros estão localizadas\n",
    "#extract_base_dir = './dataset/'\n",
    "\n",
    "for car_folder in os.listdir(extract_base_dir):\n",
    "    car_path = os.path.join(extract_base_dir, car_folder, 'home', 'jupyter-renan', 'Projeto final IC', 'dataset', 'vehicles', car_folder)\n",
    "\n",
    "    # Caminhos para as pastas de imagens e labels dentro de cada carro\n",
    "    images_path = os.path.join(car_path, 'images')\n",
    "    labels_path = os.path.join(car_path, 'labels')\n",
    "\n",
    "    # Movendo as imagens para a pasta consolidada\n",
    "    move_files(os.path.join(images_path, 'train'), os.path.join(consolidated_dir, 'images', 'train'))\n",
    "\n",
    "    # Verifica se a pasta val existe antes de tentar mover os arquivos\n",
    "    if os.path.exists(os.path.join(images_path, 'val')):\n",
    "        move_files(os.path.join(images_path, 'val'), os.path.join(consolidated_dir, 'images', 'val'))\n",
    "    else:\n",
    "        print(f\"A pasta de validação está ausente em {car_folder}, ignorando.\")\n",
    "\n",
    "    move_files(os.path.join(images_path, 'test'), os.path.join(consolidated_dir, 'images', 'test'))\n",
    "\n",
    "    # Movendo os labels para a pasta consolidada\n",
    "    move_files(os.path.join(labels_path, 'train'), os.path.join(consolidated_dir, 'labels', 'train'))\n",
    "\n",
    "    # Verifica se a pasta val existe antes de tentar mover os arquivos\n",
    "    if os.path.exists(os.path.join(labels_path, 'val')):\n",
    "        move_files(os.path.join(labels_path, 'val'), os.path.join(consolidated_dir, 'labels', 'val'))\n",
    "    else:\n",
    "        print(f\"A pasta de validação de labels está ausente em {car_folder}, ignorando.\")\n",
    "\n",
    "    move_files(os.path.join(labels_path, 'test'), os.path.join(consolidated_dir, 'labels', 'test'))\n",
    "\n",
    "print(\"Organização completa! As imagens e labels foram consolidados em\", consolidated_dir)"
   ]
  },
  {
   "cell_type": "code",
   "execution_count": 9,
   "metadata": {
    "colab": {
     "base_uri": "https://localhost:8080/"
    },
    "id": "XzX9Fz9fHIxe",
    "outputId": "e187ec43-383b-44ee-cd61-0efcdbbb975c"
   },
   "outputs": [
    {
     "name": "stdout",
     "output_type": "stream",
     "text": [
      "A pasta de validação está ausente em n004, ignorando.\n",
      "A pasta de validação de labels está ausente em n004, ignorando.\n",
      "Ignorando a pasta n013 devido a dados incompletos.\n",
      "Ignorando a pasta n014 devido a dados incompletos.\n",
      "Ignorando a pasta n015 devido a dados incompletos.\n",
      "Ignorando a pasta n016 devido a dados incompletos.\n",
      "Organização completa! As imagens e labels foram consolidados em consolidated_dataset\n"
     ]
    }
   ],
   "source": [
    "consolidated_dir = 'consolidated_dataset'\n",
    "os.makedirs(consolidated_dir, exist_ok=True)\n",
    "\n",
    "for category in ['images', 'labels']:\n",
    "    for split in ['train', 'val', 'test']:\n",
    "        os.makedirs(os.path.join(consolidated_dir, category, split), exist_ok=True)\n",
    "\n",
    "# Função para mover arquivos\n",
    "def move_files(source_dir, dest_dir):\n",
    "    if os.path.exists(source_dir):\n",
    "        for filename in os.listdir(source_dir):\n",
    "            source_file = os.path.join(source_dir, filename)\n",
    "            dest_file = os.path.join(dest_dir, filename)\n",
    "            shutil.move(source_file, dest_file)\n",
    "extract_base_dir = 'condenseDataset'\n",
    "ignore_folders = {'n016', 'n015', 'n014', 'n013'}\n",
    "# Iterar sobre cada pasta de carro extraído, ignorando as pastas incompletas\n",
    "for car_folder in os.listdir(extract_base_dir):\n",
    "    if car_folder in ignore_folders:\n",
    "        print(f\"Ignorando a pasta {car_folder} devido a dados incompletos.\")\n",
    "        continue\n",
    "    car_path = os.path.join(extract_base_dir, car_folder, 'home', 'jupyter-renan', 'Projeto final IC', 'dataset', 'vehicles', car_folder)\n",
    "    # Caminhos para as pastas de imagens e labels dentro de cada carro\n",
    "    images_path = os.path.join(car_path, 'images')\n",
    "    labels_path = os.path.join(car_path, 'labels')\n",
    "    # Movendo as imagens para a pasta consolidada\n",
    "    move_files(os.path.join(images_path, 'train'), os.path.join(consolidated_dir, 'images', 'train'))\n",
    "    # Verifica se a pasta val existe antes de tentar mover os arquivos\n",
    "    if os.path.exists(os.path.join(images_path, 'val')):\n",
    "        move_files(os.path.join(images_path, 'val'), os.path.join(consolidated_dir, 'images', 'val'))\n",
    "    else:\n",
    "        print(f\"A pasta de validação está ausente em {car_folder}, ignorando.\")\n",
    "    move_files(os.path.join(images_path, 'test'), os.path.join(consolidated_dir, 'images', 'test'))\n",
    "    # Movendo os labels para a pasta consolidada\n",
    "    move_files(os.path.join(labels_path, 'train'), os.path.join(consolidated_dir, 'labels', 'train'))\n",
    "    # Verifica se a pasta val existe antes de tentar mover os arquivos\n",
    "    if os.path.exists(os.path.join(labels_path, 'val')):\n",
    "        move_files(os.path.join(labels_path, 'val'), os.path.join(consolidated_dir, 'labels', 'val'))\n",
    "    else:\n",
    "        print(f\"A pasta de validação de labels está ausente em {car_folder}, ignorando.\")\n",
    "    move_files(os.path.join(labels_path, 'test'), os.path.join(consolidated_dir, 'labels', 'test'))\n",
    "print(\"Organização completa! As imagens e labels foram consolidados em\", consolidated_dir)"
   ]
  },
  {
   "cell_type": "code",
   "execution_count": 11,
   "metadata": {
    "colab": {
     "base_uri": "https://localhost:8080/"
    },
    "id": "_E8FRyl5cnmI",
    "outputId": "e4749fa8-ee07-42d2-f1d9-d8bb8635b159"
   },
   "outputs": [
    {
     "name": "stdout",
     "output_type": "stream",
     "text": [
      "Organização completa! As imagens e labels das pastas específicas foram consolidados em consolidated_dataset\n"
     ]
    }
   ],
   "source": [
    "# Crie as pastas consolidadas para imagens e labels, com subpastas de treino, validação e teste\n",
    "for category in ['images', 'labels']:\n",
    "    for split in ['train', 'val', 'test']:\n",
    "        os.makedirs(os.path.join(consolidated_dir, category, split), exist_ok=True)\n",
    "\n",
    "# Função para mover arquivos, ignorando arquivos dataset.yaml\n",
    "def move_files(source_dir, dest_dir):\n",
    "    if os.path.exists(source_dir):\n",
    "        for filename in os.listdir(source_dir):\n",
    "            if filename != 'dataset.yaml':  # Ignora o arquivo dataset.yaml\n",
    "                source_file = os.path.join(source_dir, filename)\n",
    "                dest_file = os.path.join(dest_dir, filename)\n",
    "                shutil.move(source_file, dest_file)\n",
    "\n",
    "specific_folders = {'n013', 'n014', 'n015', 'n016'}\n",
    "base_dir = 'condenseDataset'\n",
    "for folder in specific_folders:\n",
    "    folder_path = os.path.join(base_dir, folder, folder)\n",
    "    # Caminhos para as pastas de imagens e labels dentro de cada uma dessas pastas\n",
    "    images_path = os.path.join(folder_path, 'images')\n",
    "    labels_path = os.path.join(folder_path, 'labels')\n",
    "    # Movendo as imagens para a pasta consolidada\n",
    "    move_files(os.path.join(images_path, 'train'), os.path.join(consolidated_dir, 'images', 'train'))\n",
    "    # Verifica se a pasta val existe antes de tentar mover os arquivos\n",
    "    if os.path.exists(os.path.join(images_path, 'val')):\n",
    "        move_files(os.path.join(images_path, 'val'), os.path.join(consolidated_dir, 'images', 'val'))\n",
    "    else:\n",
    "        print(f\"A pasta de validação está ausente em {folder}, ignorando.\")\n",
    "    move_files(os.path.join(images_path, 'test'), os.path.join(consolidated_dir, 'images', 'test'))\n",
    "    # Movendo os labels para a pasta consolidada\n",
    "    move_files(os.path.join(labels_path, 'train'), os.path.join(consolidated_dir, 'labels', 'train'))\n",
    "    # Verifica se a pasta val existe antes de tentar mover os arquivos\n",
    "    if os.path.exists(os.path.join(labels_path, 'val')):\n",
    "        move_files(os.path.join(labels_path, 'val'), os.path.join(consolidated_dir, 'labels', 'val'))\n",
    "    else:\n",
    "        print(f\"A pasta de validação de labels está ausente em {folder}, ignorando.\")\n",
    "    move_files(os.path.join(labels_path, 'test'), os.path.join(consolidated_dir, 'labels', 'test'))\n",
    "print(\"Organização completa! As imagens e labels das pastas específicas foram consolidados em\", consolidated_dir)\n"
   ]
  },
  {
   "cell_type": "code",
   "execution_count": 9,
   "metadata": {
    "colab": {
     "base_uri": "https://localhost:8080/"
    },
    "id": "kZCut3N_2deZ",
    "outputId": "423ad239-e755-4619-f6da-bee453cd121a"
   },
   "outputs": [
    {
     "name": "stdout",
     "output_type": "stream",
     "text": [
      "\n",
      "Contagem de arquivos na categoria 'images':\n",
      " - train: 67279 arquivos\n",
      " - val: 16445 arquivos\n",
      " - test: 9752 arquivos\n",
      "\n",
      "Contagem de arquivos na categoria 'labels':\n",
      " - train: 67279 arquivos\n",
      " - val: 16445 arquivos\n",
      " - test: 9752 arquivos\n"
     ]
    }
   ],
   "source": [
    "# Função para contar arquivos em uma pasta\n",
    "def count_files(directory):\n",
    "    if os.path.exists(directory):\n",
    "        return len([f for f in os.listdir(directory) if os.path.isfile(os.path.join(directory, f))])\n",
    "    else:\n",
    "        return 0\n",
    "\n",
    "# Contadores para cada subpasta em images e labels\n",
    "for category in ['images', 'labels']:\n",
    "    print(f\"\\nContagem de arquivos na categoria '{category}':\")\n",
    "    for split in ['train', 'val', 'test']:\n",
    "        folder_path = os.path.join(consolidated_dir, category, split)\n",
    "        file_count = count_files(folder_path)\n",
    "        print(f\" - {split}: {file_count} arquivos\")"
   ]
  },
  {
   "cell_type": "markdown",
   "metadata": {
    "id": "TsTUwgEG_n62"
   },
   "source": [
    "### Verificando as imagens"
   ]
  },
  {
   "cell_type": "code",
   "execution_count": 10,
   "metadata": {},
   "outputs": [],
   "source": [
    "from PIL import Image\n",
    "import matplotlib.pyplot as plt"
   ]
  },
  {
   "cell_type": "code",
   "execution_count": 15,
   "metadata": {
    "colab": {
     "base_uri": "https://localhost:8080/",
     "height": 333
    },
    "id": "Y4THBwI0-fP8",
    "outputId": "406e5bde-54f4-4a90-847c-43c958f3d8e5"
   },
   "outputs": [
    {
     "name": "stdout",
     "output_type": "stream",
     "text": [
      "Largura: 1600, Altura: 900\n"
     ]
    },
    {
     "data": {
      "image/png": "[encoded data removed]",
      "text/plain": [
       "<Figure size 640x480 with 1 Axes>"
      ]
     },
     "metadata": {},
     "output_type": "display_data"
    }
   ],
   "source": [
    "img_path = 'consolidated_dataset/images/test/1514864936124954.jpg'\n",
    "\n",
    "image = Image.open(img_path)\n",
    "\n",
    "w, h = image.size\n",
    "print(f\"Largura: {w}, Altura: {h}\")\n",
    "plt.imshow(image)\n",
    "plt.axis('off')\n",
    "plt.show()"
   ]
  },
  {
   "cell_type": "code",
   "execution_count": null,
   "metadata": {
    "colab": {
     "base_uri": "https://localhost:8080/"
    },
    "id": "3LZzzdlz_bEx",
    "outputId": "8ac17b65-43d9-4709-823f-9e08e8f069ac"
   },
   "outputs": [
    {
     "name": "stdout",
     "output_type": "stream",
     "text": [
      "Todas as imagens na pasta 'train' possuem dimensões consistentes: (1600, 900)\n",
      "Todas as imagens na pasta 'val' possuem dimensões consistentes: (1600, 900)\n",
      "Todas as imagens na pasta 'test' possuem dimensões consistentes: (1600, 900)\n"
     ]
    }
   ],
   "source": [
    "# Função para verificar dimensões das imagens em uma pasta\n",
    "def check_image_dimensions(directory):\n",
    "    dimensions = None\n",
    "    all_same = True\n",
    "    for filename in os.listdir(directory):\n",
    "        file_path = os.path.join(directory, filename)\n",
    "        if os.path.isfile(file_path):\n",
    "            with Image.open(file_path) as img:\n",
    "                current_dimensions = img.size\n",
    "                if dimensions is None:\n",
    "                    dimensions = current_dimensions\n",
    "                elif dimensions != current_dimensions:\n",
    "                    print(f\"Dimensão inconsistente encontrada em {file_path}: {current_dimensions}\")\n",
    "                    all_same = False\n",
    "    return all_same, dimensions\n",
    "\n",
    "# Checa cada subpasta de images: train, val, test\n",
    "for split in ['train', 'val', 'test']:\n",
    "    folder_path = os.path.join(consolidated_dir, 'images', split)\n",
    "    if os.path.exists(folder_path):\n",
    "        all_same, dimensions = check_image_dimensions(folder_path)\n",
    "        if all_same:\n",
    "            print(f\"Todas as imagens na pasta '{split}' possuem dimensões consistentes: {dimensions}\")\n",
    "        else:\n",
    "            print(f\"Atenção: Nem todas as imagens na pasta '{split}' possuem as mesmas dimensões.\")\n",
    "    else:\n",
    "        print(f\"A pasta '{split}' não existe em '{folder_path}'.\")"
   ]
  },
  {
   "cell_type": "markdown",
   "metadata": {
    "id": "5nPJkwOq_pyJ"
   },
   "source": [
    "### Processando"
   ]
  },
  {
   "cell_type": "markdown",
   "metadata": {
    "id": "TEvt6pn7dzXu"
   },
   "source": [
    "### Treinando YOLOv5"
   ]
  },
  {
   "cell_type": "code",
   "execution_count": 1,
   "metadata": {
    "id": "B1ntJ3Bcd097"
   },
   "outputs": [],
   "source": [
    "import yaml"
   ]
  },
  {
   "cell_type": "code",
   "execution_count": 11,
   "metadata": {
    "id": "B7LMuYYud7dS"
   },
   "outputs": [],
   "source": [
    "yaml_content = {\n",
    "    'train': 'C:/Users/PC/Documents/Nuimages-yolo/consolidated_dataset/images/train',#'consolidated_dataset/images/train',  # Caminho para imagens de treino\n",
    "    'val': 'C:/Users/PC/Documents/Nuimages-yolo/consolidated_dataset/images/val',      # Caminho para imagens de validação\n",
    "    'test': 'C:/Users/PC/Documents/Nuimages-yolo/consolidated_dataset/images/test',    # Caminho para imagens de teste\n",
    "    'nc': 12,  # Número de classes\n",
    "    'names': {  # Nomes das classes\n",
    "        0: 'animal',\n",
    "        1: 'child',\n",
    "        2: 'pedestrian',\n",
    "        3: 'movable_object',\n",
    "        4: 'trafficcone',\n",
    "        5: 'bicycle',\n",
    "        6: 'bus',\n",
    "        7: 'emergency_vehicle',\n",
    "        8: 'motorcycle',\n",
    "        9: 'construction_vehicle',\n",
    "        10: 'trailer',\n",
    "        11: 'truck'\n",
    "    }\n",
    "}\n",
    "yaml_path = 'consolidated_dataset/dataset.yaml'\n",
    "with open(yaml_path, 'w') as file:\n",
    "    yaml.dump(yaml_content, file, default_flow_style=False)"
   ]
  },
  {
   "cell_type": "code",
   "execution_count": 14,
   "metadata": {
    "colab": {
     "background_save": true,
     "base_uri": "https://localhost:8080/"
    },
    "id": "uGCiXL3-eIAi",
    "outputId": "f62044d8-6288-4c0d-b4a0-54e29d1145b3"
   },
   "outputs": [
    {
     "name": "stdout",
     "output_type": "stream",
     "text": [
      "PRO TIP  Replace 'model=yolov5n.pt' with new 'model=yolov5nu.pt'.\n",
      "YOLOv5 'u' models are trained with https://github.com/ultralytics/ultralytics and feature improved performance vs standard YOLOv5 models trained with https://github.com/ultralytics/yolov5.\n",
      "\n",
      "Downloading https://github.com/ultralytics/assets/releases/download/v8.3.0/yolov5nu.pt to 'yolov5nu.pt'...\n"
     ]
    },
    {
     "name": "stderr",
     "output_type": "stream",
     "text": [
      "100%|██████████| 5.31M/5.31M [00:00<00:00, 9.70MB/s]\n"
     ]
    },
    {
     "name": "stdout",
     "output_type": "stream",
     "text": [
      "Ultralytics 8.3.25  Python-3.12.7 torch-2.5.1+cu124 CUDA:0 (NVIDIA GeForce RTX 4060, 8187MiB)\n",
      "\u001b[34m\u001b[1mengine\\trainer: \u001b[0mtask=detect, mode=train, model=yolov5n.pt, data=consolidated_dataset/dataset.yaml, epochs=100, time=None, patience=10, batch=16, imgsz=640, save=True, save_period=-1, cache=False, device=None, workers=8, project=None, name=yolov5n_nuimages, exist_ok=False, pretrained=True, optimizer=auto, verbose=True, seed=0, deterministic=True, single_cls=False, rect=False, cos_lr=False, close_mosaic=10, resume=False, amp=True, fraction=1.0, profile=False, freeze=None, multi_scale=False, overlap_mask=True, mask_ratio=4, dropout=0.0, val=True, split=val, save_json=False, save_hybrid=False, conf=None, iou=0.7, max_det=300, half=False, dnn=False, plots=True, source=None, vid_stride=1, stream_buffer=False, visualize=False, augment=False, agnostic_nms=False, classes=None, retina_masks=False, embed=None, show=False, save_frames=False, save_txt=False, save_conf=False, save_crop=False, show_labels=True, show_conf=True, show_boxes=True, line_width=None, format=torchscript, keras=False, optimize=False, int8=False, dynamic=False, simplify=True, opset=None, workspace=4, nms=False, lr0=0.01, lrf=0.01, momentum=0.937, weight_decay=0.0005, warmup_epochs=3.0, warmup_momentum=0.8, warmup_bias_lr=0.1, box=7.5, cls=0.5, dfl=1.5, pose=12.0, kobj=1.0, label_smoothing=0.0, nbs=64, hsv_h=0.015, hsv_s=0.7, hsv_v=0.4, degrees=0.0, translate=0.1, scale=0.5, shear=0.0, perspective=0.0, flipud=0.0, fliplr=0.5, bgr=0.0, mosaic=1.0, mixup=0.0, copy_paste=0.0, copy_paste_mode=flip, auto_augment=randaugment, erasing=0.4, crop_fraction=1.0, cfg=None, tracker=botsort.yaml, save_dir=runs\\detect\\yolov5n_nuimages\n",
      "Downloading https://ultralytics.com/assets/Arial.ttf to 'C:\\Users\\PC\\AppData\\Roaming\\Ultralytics\\Arial.ttf'...\n"
     ]
    },
    {
     "name": "stderr",
     "output_type": "stream",
     "text": [
      "100%|██████████| 755k/755k [00:00<00:00, 4.55MB/s]\n"
     ]
    },
    {
     "name": "stdout",
     "output_type": "stream",
     "text": [
      "Overriding model.yaml nc=80 with nc=12\n",
      "\n",
      "                   from  n    params  module                                       arguments                     \n",
      "  0                  -1  1      1760  ultralytics.nn.modules.conv.Conv             [3, 16, 6, 2, 2]              \n",
      "  1                  -1  1      4672  ultralytics.nn.modules.conv.Conv             [16, 32, 3, 2]                \n",
      "  2                  -1  1      4800  ultralytics.nn.modules.block.C3              [32, 32, 1]                   \n",
      "  3                  -1  1     18560  ultralytics.nn.modules.conv.Conv             [32, 64, 3, 2]                \n",
      "  4                  -1  2     29184  ultralytics.nn.modules.block.C3              [64, 64, 2]                   \n",
      "  5                  -1  1     73984  ultralytics.nn.modules.conv.Conv             [64, 128, 3, 2]               \n",
      "  6                  -1  3    156928  ultralytics.nn.modules.block.C3              [128, 128, 3]                 \n",
      "  7                  -1  1    295424  ultralytics.nn.modules.conv.Conv             [128, 256, 3, 2]              \n",
      "  8                  -1  1    296448  ultralytics.nn.modules.block.C3              [256, 256, 1]                 \n",
      "  9                  -1  1    164608  ultralytics.nn.modules.block.SPPF            [256, 256, 5]                 \n",
      " 10                  -1  1     33024  ultralytics.nn.modules.conv.Conv             [256, 128, 1, 1]              \n",
      " 11                  -1  1         0  torch.nn.modules.upsampling.Upsample         [None, 2, 'nearest']          \n",
      " 12             [-1, 6]  1         0  ultralytics.nn.modules.conv.Concat           [1]                           \n",
      " 13                  -1  1     90880  ultralytics.nn.modules.block.C3              [256, 128, 1, False]          \n",
      " 14                  -1  1      8320  ultralytics.nn.modules.conv.Conv             [128, 64, 1, 1]               \n",
      " 15                  -1  1         0  torch.nn.modules.upsampling.Upsample         [None, 2, 'nearest']          \n",
      " 16             [-1, 4]  1         0  ultralytics.nn.modules.conv.Concat           [1]                           \n",
      " 17                  -1  1     22912  ultralytics.nn.modules.block.C3              [128, 64, 1, False]           \n",
      " 18                  -1  1     36992  ultralytics.nn.modules.conv.Conv             [64, 64, 3, 2]                \n",
      " 19            [-1, 14]  1         0  ultralytics.nn.modules.conv.Concat           [1]                           \n",
      " 20                  -1  1     74496  ultralytics.nn.modules.block.C3              [128, 128, 1, False]          \n",
      " 21                  -1  1    147712  ultralytics.nn.modules.conv.Conv             [128, 128, 3, 2]              \n",
      " 22            [-1, 10]  1         0  ultralytics.nn.modules.conv.Concat           [1]                           \n",
      " 23                  -1  1    296448  ultralytics.nn.modules.block.C3              [256, 256, 1, False]          \n",
      " 24        [17, 20, 23]  1    753652  ultralytics.nn.modules.head.Detect           [12, [64, 128, 256]]          \n",
      "YOLOv5n summary: 262 layers, 2,510,804 parameters, 2,510,788 gradients, 7.2 GFLOPs\n",
      "\n",
      "Transferred 391/427 items from pretrained weights\n",
      "Freezing layer 'model.24.dfl.conv.weight'\n",
      "\u001b[34m\u001b[1mAMP: \u001b[0mrunning Automatic Mixed Precision (AMP) checks...\n",
      "\u001b[34m\u001b[1mAMP: \u001b[0mchecks passed \n"
     ]
    },
    {
     "name": "stderr",
     "output_type": "stream",
     "text": [
      "\u001b[34m\u001b[1mtrain: \u001b[0mScanning C:\\Users\\PC\\Documents\\Nuimages-yolo\\consolidated_dataset\\labels\\train.cache... 67279 images, 6630 backgrounds, 0 corrupt: 100%|██████████| 67279/67279 [00:00<?, ?it/s]"
     ]
    },
    {
     "name": "stdout",
     "output_type": "stream",
     "text": [
      "\u001b[34m\u001b[1mtrain: \u001b[0mWARNING  C:\\Users\\PC\\Documents\\Nuimages-yolo\\consolidated_dataset\\images\\train\\1536646725897155.jpg: 1 duplicate labels removed\n"
     ]
    },
    {
     "name": "stderr",
     "output_type": "stream",
     "text": [
      "\n",
      "\u001b[34m\u001b[1mval: \u001b[0mScanning C:\\Users\\PC\\Documents\\Nuimages-yolo\\consolidated_dataset\\labels\\val.cache... 16445 images, 1565 backgrounds, 1 corrupt: 100%|██████████| 16445/16445 [00:00<?, ?it/s]"
     ]
    },
    {
     "name": "stdout",
     "output_type": "stream",
     "text": [
      "\u001b[34m\u001b[1mval: \u001b[0mWARNING  C:\\Users\\PC\\Documents\\Nuimages-yolo\\consolidated_dataset\\images\\val\\1515057845331004.jpg: ignoring corrupt image/label: non-normalized or out of bounds coordinates [1.000625]\n"
     ]
    },
    {
     "name": "stderr",
     "output_type": "stream",
     "text": [
      "\n"
     ]
    },
    {
     "name": "stdout",
     "output_type": "stream",
     "text": [
      "Plotting labels to runs\\detect\\yolov5n_nuimages\\labels.jpg... \n",
      "\u001b[34m\u001b[1moptimizer:\u001b[0m 'optimizer=auto' found, ignoring 'lr0=0.01' and 'momentum=0.937' and determining best 'optimizer', 'lr0' and 'momentum' automatically... \n",
      "\u001b[34m\u001b[1moptimizer:\u001b[0m SGD(lr=0.01, momentum=0.9) with parameter groups 69 weight(decay=0.0), 76 weight(decay=0.0005), 75 bias(decay=0.0)\n",
      "Image sizes 640 train, 640 val\n",
      "Using 8 dataloader workers\n",
      "Logging results to \u001b[1mruns\\detect\\yolov5n_nuimages\u001b[0m\n",
      "Starting training for 100 epochs...\n",
      "\n",
      "      Epoch    GPU_mem   box_loss   cls_loss   dfl_loss  Instances       Size\n"
     ]
    },
    {
     "name": "stderr",
     "output_type": "stream",
     "text": [
      "      1/100      3.53G      1.608       1.94      1.149        223        640: 100%|██████████| 4205/4205 [08:39<00:00,  8.09it/s]\n",
      "                 Class     Images  Instances      Box(P          R      mAP50  mAP50-95): 100%|██████████| 514/514 [01:18<00:00,  6.55it/s]\n"
     ]
    },
    {
     "name": "stdout",
     "output_type": "stream",
     "text": [
      "                   all      16444     135988        0.6      0.274      0.295       0.17\n",
      "\n",
      "      Epoch    GPU_mem   box_loss   cls_loss   dfl_loss  Instances       Size\n"
     ]
    },
    {
     "name": "stderr",
     "output_type": "stream",
     "text": [
      "      2/100       4.2G       1.55      1.441       1.12        278        640: 100%|██████████| 4205/4205 [08:14<00:00,  8.50it/s]\n",
      "                 Class     Images  Instances      Box(P          R      mAP50  mAP50-95): 100%|██████████| 514/514 [01:13<00:00,  6.98it/s]\n"
     ]
    },
    {
     "name": "stdout",
     "output_type": "stream",
     "text": [
      "                   all      16444     135988      0.569      0.314      0.338      0.195\n",
      "\n",
      "      Epoch    GPU_mem   box_loss   cls_loss   dfl_loss  Instances       Size\n"
     ]
    },
    {
     "name": "stderr",
     "output_type": "stream",
     "text": [
      "      3/100      4.18G      1.578      1.362      1.136        148        640: 100%|██████████| 4205/4205 [08:06<00:00,  8.65it/s]\n",
      "                 Class     Images  Instances      Box(P          R      mAP50  mAP50-95): 100%|██████████| 514/514 [01:13<00:00,  7.01it/s]\n"
     ]
    },
    {
     "name": "stdout",
     "output_type": "stream",
     "text": [
      "                   all      16444     135988       0.56      0.325      0.346      0.198\n",
      "\n",
      "      Epoch    GPU_mem   box_loss   cls_loss   dfl_loss  Instances       Size\n"
     ]
    },
    {
     "name": "stderr",
     "output_type": "stream",
     "text": [
      "      4/100      3.09G      1.563      1.304      1.134        225        640: 100%|██████████| 4205/4205 [08:03<00:00,  8.70it/s]\n",
      "                 Class     Images  Instances      Box(P          R      mAP50  mAP50-95): 100%|██████████| 514/514 [01:12<00:00,  7.13it/s]\n"
     ]
    },
    {
     "name": "stdout",
     "output_type": "stream",
     "text": [
      "                   all      16444     135988      0.616      0.339      0.376      0.221\n",
      "\n",
      "      Epoch    GPU_mem   box_loss   cls_loss   dfl_loss  Instances       Size\n"
     ]
    },
    {
     "name": "stderr",
     "output_type": "stream",
     "text": [
      "      5/100      3.46G      1.511      1.228      1.114        139        640: 100%|██████████| 4205/4205 [08:03<00:00,  8.70it/s]\n",
      "                 Class     Images  Instances      Box(P          R      mAP50  mAP50-95): 100%|██████████| 514/514 [01:11<00:00,  7.15it/s]\n"
     ]
    },
    {
     "name": "stdout",
     "output_type": "stream",
     "text": [
      "                   all      16444     135988      0.637      0.358      0.399      0.235\n",
      "\n",
      "      Epoch    GPU_mem   box_loss   cls_loss   dfl_loss  Instances       Size\n"
     ]
    },
    {
     "name": "stderr",
     "output_type": "stream",
     "text": [
      "      6/100      3.42G      1.483      1.188      1.102        242        640: 100%|██████████| 4205/4205 [08:03<00:00,  8.69it/s]\n",
      "                 Class     Images  Instances      Box(P          R      mAP50  mAP50-95): 100%|██████████| 514/514 [01:12<00:00,  7.05it/s]\n"
     ]
    },
    {
     "name": "stdout",
     "output_type": "stream",
     "text": [
      "                   all      16444     135988      0.637      0.372      0.415      0.248\n",
      "\n",
      "      Epoch    GPU_mem   box_loss   cls_loss   dfl_loss  Instances       Size\n"
     ]
    },
    {
     "name": "stderr",
     "output_type": "stream",
     "text": [
      "      7/100      3.88G      1.458      1.157      1.092        207        640: 100%|██████████| 4205/4205 [08:03<00:00,  8.70it/s]\n",
      "                 Class     Images  Instances      Box(P          R      mAP50  mAP50-95): 100%|██████████| 514/514 [01:10<00:00,  7.29it/s]\n"
     ]
    },
    {
     "name": "stdout",
     "output_type": "stream",
     "text": [
      "                   all      16444     135988      0.658       0.38      0.428      0.256\n",
      "\n",
      "      Epoch    GPU_mem   box_loss   cls_loss   dfl_loss  Instances       Size\n"
     ]
    },
    {
     "name": "stderr",
     "output_type": "stream",
     "text": [
      "      8/100      4.16G      1.439      1.133      1.084        205        640: 100%|██████████| 4205/4205 [08:03<00:00,  8.69it/s]\n",
      "                 Class     Images  Instances      Box(P          R      mAP50  mAP50-95): 100%|██████████| 514/514 [01:10<00:00,  7.32it/s]\n"
     ]
    },
    {
     "name": "stdout",
     "output_type": "stream",
     "text": [
      "                   all      16444     135988      0.652      0.395      0.437      0.264\n",
      "\n",
      "      Epoch    GPU_mem   box_loss   cls_loss   dfl_loss  Instances       Size\n"
     ]
    },
    {
     "name": "stderr",
     "output_type": "stream",
     "text": [
      "      9/100      3.65G      1.428      1.118      1.079        299        640: 100%|██████████| 4205/4205 [08:03<00:00,  8.69it/s]\n",
      "                 Class     Images  Instances      Box(P          R      mAP50  mAP50-95): 100%|██████████| 514/514 [01:10<00:00,  7.28it/s]\n"
     ]
    },
    {
     "name": "stdout",
     "output_type": "stream",
     "text": [
      "                   all      16444     135988      0.669      0.392      0.444      0.269\n",
      "\n",
      "      Epoch    GPU_mem   box_loss   cls_loss   dfl_loss  Instances       Size\n"
     ]
    },
    {
     "name": "stderr",
     "output_type": "stream",
     "text": [
      "     10/100      3.27G      1.416      1.103      1.074        145        640: 100%|██████████| 4205/4205 [08:03<00:00,  8.70it/s]\n",
      "                 Class     Images  Instances      Box(P          R      mAP50  mAP50-95): 100%|██████████| 514/514 [01:10<00:00,  7.33it/s]\n"
     ]
    },
    {
     "name": "stdout",
     "output_type": "stream",
     "text": [
      "                   all      16444     135988      0.666      0.399       0.45      0.272\n",
      "\n",
      "      Epoch    GPU_mem   box_loss   cls_loss   dfl_loss  Instances       Size\n"
     ]
    },
    {
     "name": "stderr",
     "output_type": "stream",
     "text": [
      "     11/100      3.87G      1.408      1.093       1.07        189        640: 100%|██████████| 4205/4205 [08:03<00:00,  8.69it/s]\n",
      "                 Class     Images  Instances      Box(P          R      mAP50  mAP50-95): 100%|██████████| 514/514 [01:10<00:00,  7.34it/s]\n"
     ]
    },
    {
     "name": "stdout",
     "output_type": "stream",
     "text": [
      "                   all      16444     135988      0.675        0.4      0.454      0.275\n",
      "\n",
      "      Epoch    GPU_mem   box_loss   cls_loss   dfl_loss  Instances       Size\n"
     ]
    },
    {
     "name": "stderr",
     "output_type": "stream",
     "text": [
      "     12/100      4.16G      1.401      1.085      1.068        218        640: 100%|██████████| 4205/4205 [08:03<00:00,  8.70it/s]\n",
      "                 Class     Images  Instances      Box(P          R      mAP50  mAP50-95): 100%|██████████| 514/514 [01:10<00:00,  7.33it/s]\n"
     ]
    },
    {
     "name": "stdout",
     "output_type": "stream",
     "text": [
      "                   all      16444     135988      0.677      0.403      0.457      0.278\n",
      "\n",
      "      Epoch    GPU_mem   box_loss   cls_loss   dfl_loss  Instances       Size\n"
     ]
    },
    {
     "name": "stderr",
     "output_type": "stream",
     "text": [
      "     13/100      4.42G      1.392      1.075      1.063        197        640: 100%|██████████| 4205/4205 [08:03<00:00,  8.70it/s]\n",
      "                 Class     Images  Instances      Box(P          R      mAP50  mAP50-95): 100%|██████████| 514/514 [01:10<00:00,  7.33it/s]\n"
     ]
    },
    {
     "name": "stdout",
     "output_type": "stream",
     "text": [
      "                   all      16444     135988      0.682      0.404       0.46       0.28\n",
      "\n",
      "      Epoch    GPU_mem   box_loss   cls_loss   dfl_loss  Instances       Size\n"
     ]
    },
    {
     "name": "stderr",
     "output_type": "stream",
     "text": [
      "     14/100      3.25G      1.388      1.068      1.061        174        640: 100%|██████████| 4205/4205 [08:03<00:00,  8.71it/s]\n",
      "                 Class     Images  Instances      Box(P          R      mAP50  mAP50-95): 100%|██████████| 514/514 [01:09<00:00,  7.35it/s]\n"
     ]
    },
    {
     "name": "stdout",
     "output_type": "stream",
     "text": [
      "                   all      16444     135988      0.685      0.405      0.462      0.281\n",
      "\n",
      "      Epoch    GPU_mem   box_loss   cls_loss   dfl_loss  Instances       Size\n"
     ]
    },
    {
     "name": "stderr",
     "output_type": "stream",
     "text": [
      "     15/100      4.12G      1.386      1.064       1.06        278        640: 100%|██████████| 4205/4205 [08:03<00:00,  8.70it/s]\n",
      "                 Class     Images  Instances      Box(P          R      mAP50  mAP50-95): 100%|██████████| 514/514 [01:10<00:00,  7.32it/s]\n"
     ]
    },
    {
     "name": "stdout",
     "output_type": "stream",
     "text": [
      "                   all      16444     135988      0.683      0.407      0.464      0.283\n",
      "\n",
      "      Epoch    GPU_mem   box_loss   cls_loss   dfl_loss  Instances       Size\n"
     ]
    },
    {
     "name": "stderr",
     "output_type": "stream",
     "text": [
      "     16/100      4.28G      1.381      1.058      1.058        204        640: 100%|██████████| 4205/4205 [08:03<00:00,  8.70it/s]\n",
      "                 Class     Images  Instances      Box(P          R      mAP50  mAP50-95): 100%|██████████| 514/514 [01:10<00:00,  7.34it/s]\n"
     ]
    },
    {
     "name": "stdout",
     "output_type": "stream",
     "text": [
      "                   all      16444     135988      0.685      0.409      0.465      0.284\n",
      "\n",
      "      Epoch    GPU_mem   box_loss   cls_loss   dfl_loss  Instances       Size\n"
     ]
    },
    {
     "name": "stderr",
     "output_type": "stream",
     "text": [
      "     17/100      4.43G      1.374      1.051      1.056        253        640: 100%|██████████| 4205/4205 [08:03<00:00,  8.70it/s]\n",
      "                 Class     Images  Instances      Box(P          R      mAP50  mAP50-95): 100%|██████████| 514/514 [01:09<00:00,  7.36it/s]\n"
     ]
    },
    {
     "name": "stdout",
     "output_type": "stream",
     "text": [
      "                   all      16444     135988      0.686       0.41      0.466      0.285\n",
      "\n",
      "      Epoch    GPU_mem   box_loss   cls_loss   dfl_loss  Instances       Size\n"
     ]
    },
    {
     "name": "stderr",
     "output_type": "stream",
     "text": [
      "     18/100      3.59G      1.366      1.042      1.053        290        640: 100%|██████████| 4205/4205 [08:04<00:00,  8.68it/s]\n",
      "                 Class     Images  Instances      Box(P          R      mAP50  mAP50-95): 100%|██████████| 514/514 [01:09<00:00,  7.34it/s]\n"
     ]
    },
    {
     "name": "stdout",
     "output_type": "stream",
     "text": [
      "                   all      16444     135988      0.689      0.409      0.468      0.286\n",
      "\n",
      "      Epoch    GPU_mem   box_loss   cls_loss   dfl_loss  Instances       Size\n"
     ]
    },
    {
     "name": "stderr",
     "output_type": "stream",
     "text": [
      "     19/100      3.81G      1.365       1.04      1.053        226        640: 100%|██████████| 4205/4205 [08:02<00:00,  8.71it/s]\n",
      "                 Class     Images  Instances      Box(P          R      mAP50  mAP50-95): 100%|██████████| 514/514 [01:10<00:00,  7.33it/s]\n"
     ]
    },
    {
     "name": "stdout",
     "output_type": "stream",
     "text": [
      "                   all      16444     135988      0.687      0.411      0.469      0.287\n",
      "\n",
      "      Epoch    GPU_mem   box_loss   cls_loss   dfl_loss  Instances       Size\n"
     ]
    },
    {
     "name": "stderr",
     "output_type": "stream",
     "text": [
      "     20/100      3.87G      1.363      1.038      1.052        268        640: 100%|██████████| 4205/4205 [08:03<00:00,  8.70it/s]\n",
      "                 Class     Images  Instances      Box(P          R      mAP50  mAP50-95): 100%|██████████| 514/514 [01:09<00:00,  7.37it/s]\n"
     ]
    },
    {
     "name": "stdout",
     "output_type": "stream",
     "text": [
      "                   all      16444     135988      0.685      0.414      0.471      0.288\n",
      "\n",
      "      Epoch    GPU_mem   box_loss   cls_loss   dfl_loss  Instances       Size\n"
     ]
    },
    {
     "name": "stderr",
     "output_type": "stream",
     "text": [
      "     21/100      3.47G      1.362      1.032      1.049        190        640: 100%|██████████| 4205/4205 [08:03<00:00,  8.70it/s]\n",
      "                 Class     Images  Instances      Box(P          R      mAP50  mAP50-95): 100%|██████████| 514/514 [01:09<00:00,  7.35it/s]\n"
     ]
    },
    {
     "name": "stdout",
     "output_type": "stream",
     "text": [
      "                   all      16444     135988      0.689      0.413      0.471      0.289\n",
      "\n",
      "      Epoch    GPU_mem   box_loss   cls_loss   dfl_loss  Instances       Size\n"
     ]
    },
    {
     "name": "stderr",
     "output_type": "stream",
     "text": [
      "     22/100       3.1G      1.358      1.031      1.049        232        640: 100%|██████████| 4205/4205 [08:02<00:00,  8.71it/s]\n",
      "                 Class     Images  Instances      Box(P          R      mAP50  mAP50-95): 100%|██████████| 514/514 [01:09<00:00,  7.35it/s]\n"
     ]
    },
    {
     "name": "stdout",
     "output_type": "stream",
     "text": [
      "                   all      16444     135988      0.691      0.414      0.473       0.29\n",
      "\n",
      "      Epoch    GPU_mem   box_loss   cls_loss   dfl_loss  Instances       Size\n"
     ]
    },
    {
     "name": "stderr",
     "output_type": "stream",
     "text": [
      "     23/100       4.1G      1.357      1.028      1.049        276        640: 100%|██████████| 4205/4205 [08:03<00:00,  8.70it/s]\n",
      "                 Class     Images  Instances      Box(P          R      mAP50  mAP50-95): 100%|██████████| 514/514 [01:09<00:00,  7.37it/s]\n"
     ]
    },
    {
     "name": "stdout",
     "output_type": "stream",
     "text": [
      "                   all      16444     135988      0.693      0.414      0.474      0.291\n",
      "\n",
      "      Epoch    GPU_mem   box_loss   cls_loss   dfl_loss  Instances       Size\n"
     ]
    },
    {
     "name": "stderr",
     "output_type": "stream",
     "text": [
      "     24/100      3.99G      1.352      1.022      1.046        215        640: 100%|██████████| 4205/4205 [08:03<00:00,  8.70it/s]\n",
      "                 Class     Images  Instances      Box(P          R      mAP50  mAP50-95): 100%|██████████| 514/514 [01:09<00:00,  7.36it/s]\n"
     ]
    },
    {
     "name": "stdout",
     "output_type": "stream",
     "text": [
      "                   all      16444     135988      0.694      0.416      0.475      0.292\n",
      "\n",
      "      Epoch    GPU_mem   box_loss   cls_loss   dfl_loss  Instances       Size\n"
     ]
    },
    {
     "name": "stderr",
     "output_type": "stream",
     "text": [
      "     25/100       3.6G      1.351      1.021      1.046        185        640: 100%|██████████| 4205/4205 [08:02<00:00,  8.71it/s]\n",
      "                 Class     Images  Instances      Box(P          R      mAP50  mAP50-95): 100%|██████████| 514/514 [01:09<00:00,  7.39it/s]\n"
     ]
    },
    {
     "name": "stdout",
     "output_type": "stream",
     "text": [
      "                   all      16444     135988      0.697      0.416      0.476      0.293\n",
      "\n",
      "      Epoch    GPU_mem   box_loss   cls_loss   dfl_loss  Instances       Size\n"
     ]
    },
    {
     "name": "stderr",
     "output_type": "stream",
     "text": [
      "     26/100      3.38G      1.345      1.013      1.044        306        640: 100%|██████████| 4205/4205 [08:02<00:00,  8.71it/s]\n",
      "                 Class     Images  Instances      Box(P          R      mAP50  mAP50-95): 100%|██████████| 514/514 [01:09<00:00,  7.39it/s]\n"
     ]
    },
    {
     "name": "stdout",
     "output_type": "stream",
     "text": [
      "                   all      16444     135988      0.697      0.418      0.477      0.294\n",
      "\n",
      "      Epoch    GPU_mem   box_loss   cls_loss   dfl_loss  Instances       Size\n"
     ]
    },
    {
     "name": "stderr",
     "output_type": "stream",
     "text": [
      "     27/100      3.74G      1.347      1.015      1.043        212        640: 100%|██████████| 4205/4205 [08:05<00:00,  8.66it/s]\n",
      "                 Class     Images  Instances      Box(P          R      mAP50  mAP50-95): 100%|██████████| 514/514 [01:09<00:00,  7.39it/s]\n"
     ]
    },
    {
     "name": "stdout",
     "output_type": "stream",
     "text": [
      "                   all      16444     135988        0.7      0.419      0.479      0.295\n",
      "\n",
      "      Epoch    GPU_mem   box_loss   cls_loss   dfl_loss  Instances       Size\n"
     ]
    },
    {
     "name": "stderr",
     "output_type": "stream",
     "text": [
      "     28/100      3.89G      1.344      1.011      1.042        173        640: 100%|██████████| 4205/4205 [08:02<00:00,  8.71it/s]\n",
      "                 Class     Images  Instances      Box(P          R      mAP50  mAP50-95): 100%|██████████| 514/514 [01:09<00:00,  7.38it/s]\n"
     ]
    },
    {
     "name": "stdout",
     "output_type": "stream",
     "text": [
      "                   all      16444     135988      0.702      0.419       0.48      0.296\n",
      "\n",
      "      Epoch    GPU_mem   box_loss   cls_loss   dfl_loss  Instances       Size\n"
     ]
    },
    {
     "name": "stderr",
     "output_type": "stream",
     "text": [
      "     29/100      4.24G      1.342       1.01      1.041        242        640: 100%|██████████| 4205/4205 [08:03<00:00,  8.71it/s]\n",
      "                 Class     Images  Instances      Box(P          R      mAP50  mAP50-95): 100%|██████████| 514/514 [01:09<00:00,  7.39it/s]\n"
     ]
    },
    {
     "name": "stdout",
     "output_type": "stream",
     "text": [
      "                   all      16444     135988      0.703       0.42      0.481      0.297\n",
      "\n",
      "      Epoch    GPU_mem   box_loss   cls_loss   dfl_loss  Instances       Size\n"
     ]
    },
    {
     "name": "stderr",
     "output_type": "stream",
     "text": [
      "     30/100      3.81G       1.34      1.007      1.041        239        640: 100%|██████████| 4205/4205 [08:03<00:00,  8.70it/s]\n",
      "                 Class     Images  Instances      Box(P          R      mAP50  mAP50-95): 100%|██████████| 514/514 [01:09<00:00,  7.39it/s]\n"
     ]
    },
    {
     "name": "stdout",
     "output_type": "stream",
     "text": [
      "                   all      16444     135988      0.702      0.422      0.482      0.297\n",
      "\n",
      "      Epoch    GPU_mem   box_loss   cls_loss   dfl_loss  Instances       Size\n"
     ]
    },
    {
     "name": "stderr",
     "output_type": "stream",
     "text": [
      "     31/100      3.94G      1.337      1.005       1.04        211        640: 100%|██████████| 4205/4205 [08:03<00:00,  8.70it/s]\n",
      "                 Class     Images  Instances      Box(P          R      mAP50  mAP50-95): 100%|██████████| 514/514 [01:09<00:00,  7.43it/s]\n"
     ]
    },
    {
     "name": "stdout",
     "output_type": "stream",
     "text": [
      "                   all      16444     135988      0.698      0.426      0.483      0.298\n",
      "\n",
      "      Epoch    GPU_mem   box_loss   cls_loss   dfl_loss  Instances       Size\n"
     ]
    },
    {
     "name": "stderr",
     "output_type": "stream",
     "text": [
      "     32/100      3.85G      1.335      1.003      1.038        186        640: 100%|██████████| 4205/4205 [08:03<00:00,  8.70it/s]\n",
      "                 Class     Images  Instances      Box(P          R      mAP50  mAP50-95): 100%|██████████| 514/514 [01:09<00:00,  7.44it/s]\n"
     ]
    },
    {
     "name": "stdout",
     "output_type": "stream",
     "text": [
      "                   all      16444     135988      0.698      0.427      0.484      0.299\n",
      "\n",
      "      Epoch    GPU_mem   box_loss   cls_loss   dfl_loss  Instances       Size\n"
     ]
    },
    {
     "name": "stderr",
     "output_type": "stream",
     "text": [
      "     33/100      3.38G      1.331     0.9965      1.037        186        640: 100%|██████████| 4205/4205 [08:03<00:00,  8.70it/s]\n",
      "                 Class     Images  Instances      Box(P          R      mAP50  mAP50-95): 100%|██████████| 514/514 [01:09<00:00,  7.40it/s]\n"
     ]
    },
    {
     "name": "stdout",
     "output_type": "stream",
     "text": [
      "                   all      16444     135988      0.698      0.429      0.485        0.3\n",
      "\n",
      "      Epoch    GPU_mem   box_loss   cls_loss   dfl_loss  Instances       Size\n"
     ]
    },
    {
     "name": "stderr",
     "output_type": "stream",
     "text": [
      "     34/100      3.16G      1.331     0.9962      1.037        276        640: 100%|██████████| 4205/4205 [08:03<00:00,  8.70it/s]\n",
      "                 Class     Images  Instances      Box(P          R      mAP50  mAP50-95): 100%|██████████| 514/514 [01:09<00:00,  7.41it/s]\n"
     ]
    },
    {
     "name": "stdout",
     "output_type": "stream",
     "text": [
      "                   all      16444     135988      0.697       0.43      0.486      0.301\n",
      "\n",
      "      Epoch    GPU_mem   box_loss   cls_loss   dfl_loss  Instances       Size\n"
     ]
    },
    {
     "name": "stderr",
     "output_type": "stream",
     "text": [
      "     35/100      3.34G      1.332     0.9947      1.036        209        640: 100%|██████████| 4205/4205 [08:03<00:00,  8.69it/s]\n",
      "                 Class     Images  Instances      Box(P          R      mAP50  mAP50-95): 100%|██████████| 514/514 [01:09<00:00,  7.43it/s]\n"
     ]
    },
    {
     "name": "stdout",
     "output_type": "stream",
     "text": [
      "                   all      16444     135988      0.697      0.431      0.488      0.301\n",
      "\n",
      "      Epoch    GPU_mem   box_loss   cls_loss   dfl_loss  Instances       Size\n"
     ]
    },
    {
     "name": "stderr",
     "output_type": "stream",
     "text": [
      "     36/100      3.19G      1.326     0.9907      1.035        182        640: 100%|██████████| 4205/4205 [08:03<00:00,  8.69it/s]\n",
      "                 Class     Images  Instances      Box(P          R      mAP50  mAP50-95): 100%|██████████| 514/514 [01:09<00:00,  7.44it/s]\n"
     ]
    },
    {
     "name": "stdout",
     "output_type": "stream",
     "text": [
      "                   all      16444     135988        0.7      0.432      0.489      0.302\n",
      "\n",
      "      Epoch    GPU_mem   box_loss   cls_loss   dfl_loss  Instances       Size\n"
     ]
    },
    {
     "name": "stderr",
     "output_type": "stream",
     "text": [
      "     37/100      4.21G      1.326     0.9897      1.034        183        640: 100%|██████████| 4205/4205 [08:02<00:00,  8.71it/s]\n",
      "                 Class     Images  Instances      Box(P          R      mAP50  mAP50-95): 100%|██████████| 514/514 [01:09<00:00,  7.44it/s]\n"
     ]
    },
    {
     "name": "stdout",
     "output_type": "stream",
     "text": [
      "                   all      16444     135988      0.699      0.433       0.49      0.303\n",
      "\n",
      "      Epoch    GPU_mem   box_loss   cls_loss   dfl_loss  Instances       Size\n"
     ]
    },
    {
     "name": "stderr",
     "output_type": "stream",
     "text": [
      "     38/100      3.86G      1.323     0.9867      1.034        170        640: 100%|██████████| 4205/4205 [08:03<00:00,  8.70it/s]\n",
      "                 Class     Images  Instances      Box(P          R      mAP50  mAP50-95): 100%|██████████| 514/514 [01:09<00:00,  7.41it/s]\n"
     ]
    },
    {
     "name": "stdout",
     "output_type": "stream",
     "text": [
      "                   all      16444     135988      0.704      0.433      0.491      0.304\n",
      "\n",
      "      Epoch    GPU_mem   box_loss   cls_loss   dfl_loss  Instances       Size\n"
     ]
    },
    {
     "name": "stderr",
     "output_type": "stream",
     "text": [
      "     39/100      3.91G      1.322     0.9843      1.033        186        640: 100%|██████████| 4205/4205 [08:02<00:00,  8.72it/s]\n",
      "                 Class     Images  Instances      Box(P          R      mAP50  mAP50-95): 100%|██████████| 514/514 [01:09<00:00,  7.43it/s]\n"
     ]
    },
    {
     "name": "stdout",
     "output_type": "stream",
     "text": [
      "                   all      16444     135988      0.707      0.432      0.491      0.304\n",
      "\n",
      "      Epoch    GPU_mem   box_loss   cls_loss   dfl_loss  Instances       Size\n"
     ]
    },
    {
     "name": "stderr",
     "output_type": "stream",
     "text": [
      "     40/100      4.04G       1.32     0.9822      1.032        124        640: 100%|██████████| 4205/4205 [08:02<00:00,  8.71it/s]\n",
      "                 Class     Images  Instances      Box(P          R      mAP50  mAP50-95): 100%|██████████| 514/514 [01:08<00:00,  7.45it/s]\n"
     ]
    },
    {
     "name": "stdout",
     "output_type": "stream",
     "text": [
      "                   all      16444     135988      0.701      0.435      0.492      0.305\n",
      "\n",
      "      Epoch    GPU_mem   box_loss   cls_loss   dfl_loss  Instances       Size\n"
     ]
    },
    {
     "name": "stderr",
     "output_type": "stream",
     "text": [
      "     41/100         4G      1.319     0.9826      1.032        261        640: 100%|██████████| 4205/4205 [08:03<00:00,  8.70it/s]\n",
      "                 Class     Images  Instances      Box(P          R      mAP50  mAP50-95): 100%|██████████| 514/514 [01:09<00:00,  7.43it/s]\n"
     ]
    },
    {
     "name": "stdout",
     "output_type": "stream",
     "text": [
      "                   all      16444     135988      0.702      0.436      0.494      0.306\n",
      "\n",
      "      Epoch    GPU_mem   box_loss   cls_loss   dfl_loss  Instances       Size\n"
     ]
    },
    {
     "name": "stderr",
     "output_type": "stream",
     "text": [
      "     42/100      3.34G       1.32     0.9827      1.032        385        640: 100%|██████████| 4205/4205 [08:02<00:00,  8.71it/s]\n",
      "                 Class     Images  Instances      Box(P          R      mAP50  mAP50-95): 100%|██████████| 514/514 [01:09<00:00,  7.41it/s]\n"
     ]
    },
    {
     "name": "stdout",
     "output_type": "stream",
     "text": [
      "                   all      16444     135988      0.704      0.435      0.494      0.306\n",
      "\n",
      "      Epoch    GPU_mem   box_loss   cls_loss   dfl_loss  Instances       Size\n"
     ]
    },
    {
     "name": "stderr",
     "output_type": "stream",
     "text": [
      "     43/100      3.91G      1.316     0.9775       1.03        145        640: 100%|██████████| 4205/4205 [08:03<00:00,  8.70it/s]\n",
      "                 Class     Images  Instances      Box(P          R      mAP50  mAP50-95): 100%|██████████| 514/514 [01:09<00:00,  7.42it/s]\n"
     ]
    },
    {
     "name": "stdout",
     "output_type": "stream",
     "text": [
      "                   all      16444     135988      0.709      0.436      0.495      0.307\n",
      "\n",
      "      Epoch    GPU_mem   box_loss   cls_loss   dfl_loss  Instances       Size\n"
     ]
    },
    {
     "name": "stderr",
     "output_type": "stream",
     "text": [
      "     44/100      3.17G      1.314     0.9759       1.03        174        640: 100%|██████████| 4205/4205 [08:03<00:00,  8.69it/s]\n",
      "                 Class     Images  Instances      Box(P          R      mAP50  mAP50-95): 100%|██████████| 514/514 [01:13<00:00,  7.03it/s]\n"
     ]
    },
    {
     "name": "stdout",
     "output_type": "stream",
     "text": [
      "                   all      16444     135988      0.709      0.438      0.497      0.308\n",
      "\n",
      "      Epoch    GPU_mem   box_loss   cls_loss   dfl_loss  Instances       Size\n"
     ]
    },
    {
     "name": "stderr",
     "output_type": "stream",
     "text": [
      "     45/100      4.32G      1.313     0.9739      1.029        161        640: 100%|██████████| 4205/4205 [07:57<00:00,  8.80it/s]\n",
      "                 Class     Images  Instances      Box(P          R      mAP50  mAP50-95): 100%|██████████| 514/514 [01:08<00:00,  7.52it/s]\n"
     ]
    },
    {
     "name": "stdout",
     "output_type": "stream",
     "text": [
      "                   all      16444     135988      0.714      0.437      0.497      0.309\n",
      "\n",
      "      Epoch    GPU_mem   box_loss   cls_loss   dfl_loss  Instances       Size\n"
     ]
    },
    {
     "name": "stderr",
     "output_type": "stream",
     "text": [
      "     46/100      3.75G      1.308     0.9696      1.028        183        640: 100%|██████████| 4205/4205 [09:55<00:00,  7.06it/s]\n",
      "                 Class     Images  Instances      Box(P          R      mAP50  mAP50-95): 100%|██████████| 514/514 [01:30<00:00,  5.65it/s]\n"
     ]
    },
    {
     "name": "stdout",
     "output_type": "stream",
     "text": [
      "                   all      16444     135988      0.715      0.437      0.498      0.309\n",
      "\n",
      "      Epoch    GPU_mem   box_loss   cls_loss   dfl_loss  Instances       Size\n"
     ]
    },
    {
     "name": "stderr",
     "output_type": "stream",
     "text": [
      "     47/100      4.15G      1.306     0.9673      1.027        324        640: 100%|██████████| 4205/4205 [10:40<00:00,  6.56it/s]\n",
      "                 Class     Images  Instances      Box(P          R      mAP50  mAP50-95): 100%|██████████| 514/514 [01:30<00:00,  5.66it/s]\n"
     ]
    },
    {
     "name": "stdout",
     "output_type": "stream",
     "text": [
      "                   all      16444     135988      0.714      0.437      0.498       0.31\n",
      "\n",
      "      Epoch    GPU_mem   box_loss   cls_loss   dfl_loss  Instances       Size\n"
     ]
    },
    {
     "name": "stderr",
     "output_type": "stream",
     "text": [
      "     48/100      3.81G      1.303     0.9643      1.026        160        640: 100%|██████████| 4205/4205 [10:40<00:00,  6.56it/s]\n",
      "                 Class     Images  Instances      Box(P          R      mAP50  mAP50-95): 100%|██████████| 514/514 [01:30<00:00,  5.66it/s]\n"
     ]
    },
    {
     "name": "stdout",
     "output_type": "stream",
     "text": [
      "                   all      16444     135988      0.716      0.437      0.499       0.31\n",
      "\n",
      "      Epoch    GPU_mem   box_loss   cls_loss   dfl_loss  Instances       Size\n"
     ]
    },
    {
     "name": "stderr",
     "output_type": "stream",
     "text": [
      "     49/100      3.62G      1.306     0.9659      1.026        180        640: 100%|██████████| 4205/4205 [10:40<00:00,  6.57it/s]\n",
      "                 Class     Images  Instances      Box(P          R      mAP50  mAP50-95): 100%|██████████| 514/514 [01:30<00:00,  5.65it/s]\n"
     ]
    },
    {
     "name": "stdout",
     "output_type": "stream",
     "text": [
      "                   all      16444     135988      0.717      0.437        0.5      0.311\n",
      "\n",
      "      Epoch    GPU_mem   box_loss   cls_loss   dfl_loss  Instances       Size\n"
     ]
    },
    {
     "name": "stderr",
     "output_type": "stream",
     "text": [
      "     50/100      3.27G      1.302     0.9622      1.025        282        640: 100%|██████████| 4205/4205 [10:43<00:00,  6.53it/s]\n",
      "                 Class     Images  Instances      Box(P          R      mAP50  mAP50-95): 100%|██████████| 514/514 [01:34<00:00,  5.43it/s]\n"
     ]
    },
    {
     "name": "stdout",
     "output_type": "stream",
     "text": [
      "                   all      16444     135988      0.722      0.436      0.501      0.312\n",
      "\n",
      "      Epoch    GPU_mem   box_loss   cls_loss   dfl_loss  Instances       Size\n"
     ]
    },
    {
     "name": "stderr",
     "output_type": "stream",
     "text": [
      "     51/100      3.79G        1.3     0.9585      1.025        273        640: 100%|██████████| 4205/4205 [11:12<00:00,  6.25it/s]\n",
      "                 Class     Images  Instances      Box(P          R      mAP50  mAP50-95): 100%|██████████| 514/514 [01:34<00:00,  5.47it/s]\n"
     ]
    },
    {
     "name": "stdout",
     "output_type": "stream",
     "text": [
      "                   all      16444     135988      0.718      0.439      0.502      0.312\n",
      "\n",
      "      Epoch    GPU_mem   box_loss   cls_loss   dfl_loss  Instances       Size\n"
     ]
    },
    {
     "name": "stderr",
     "output_type": "stream",
     "text": [
      "     52/100      3.38G      1.301     0.9603      1.025        163        640: 100%|██████████| 4205/4205 [11:11<00:00,  6.26it/s]\n",
      "                 Class     Images  Instances      Box(P          R      mAP50  mAP50-95): 100%|██████████| 514/514 [01:33<00:00,  5.47it/s]\n"
     ]
    },
    {
     "name": "stdout",
     "output_type": "stream",
     "text": [
      "                   all      16444     135988      0.718      0.439      0.502      0.313\n",
      "\n",
      "      Epoch    GPU_mem   box_loss   cls_loss   dfl_loss  Instances       Size\n"
     ]
    },
    {
     "name": "stderr",
     "output_type": "stream",
     "text": [
      "     53/100      4.51G      1.296     0.9551      1.022        205        640: 100%|██████████| 4205/4205 [11:12<00:00,  6.25it/s]\n",
      "                 Class     Images  Instances      Box(P          R      mAP50  mAP50-95): 100%|██████████| 514/514 [01:34<00:00,  5.44it/s]\n"
     ]
    },
    {
     "name": "stdout",
     "output_type": "stream",
     "text": [
      "                   all      16444     135988      0.717       0.44      0.503      0.313\n",
      "\n",
      "      Epoch    GPU_mem   box_loss   cls_loss   dfl_loss  Instances       Size\n"
     ]
    },
    {
     "name": "stderr",
     "output_type": "stream",
     "text": [
      "     54/100      3.75G      1.294     0.9528      1.022        144        640: 100%|██████████| 4205/4205 [11:10<00:00,  6.27it/s]\n",
      "                 Class     Images  Instances      Box(P          R      mAP50  mAP50-95): 100%|██████████| 514/514 [01:34<00:00,  5.47it/s]\n"
     ]
    },
    {
     "name": "stdout",
     "output_type": "stream",
     "text": [
      "                   all      16444     135988      0.721      0.439      0.504      0.314\n",
      "\n",
      "      Epoch    GPU_mem   box_loss   cls_loss   dfl_loss  Instances       Size\n"
     ]
    },
    {
     "name": "stderr",
     "output_type": "stream",
     "text": [
      "     55/100      3.21G      1.296     0.9532      1.022        271        640: 100%|██████████| 4205/4205 [11:09<00:00,  6.28it/s]\n",
      "                 Class     Images  Instances      Box(P          R      mAP50  mAP50-95): 100%|██████████| 514/514 [01:33<00:00,  5.50it/s]\n"
     ]
    },
    {
     "name": "stdout",
     "output_type": "stream",
     "text": [
      "                   all      16444     135988      0.723      0.439      0.504      0.314\n",
      "\n",
      "      Epoch    GPU_mem   box_loss   cls_loss   dfl_loss  Instances       Size\n"
     ]
    },
    {
     "name": "stderr",
     "output_type": "stream",
     "text": [
      "     56/100      3.61G      1.292       0.95      1.021        212        640: 100%|██████████| 4205/4205 [11:10<00:00,  6.27it/s]\n",
      "                 Class     Images  Instances      Box(P          R      mAP50  mAP50-95): 100%|██████████| 514/514 [01:33<00:00,  5.49it/s]\n"
     ]
    },
    {
     "name": "stdout",
     "output_type": "stream",
     "text": [
      "                   all      16444     135988      0.722       0.44      0.505      0.314\n",
      "\n",
      "      Epoch    GPU_mem   box_loss   cls_loss   dfl_loss  Instances       Size\n"
     ]
    },
    {
     "name": "stderr",
     "output_type": "stream",
     "text": [
      "     57/100      3.91G      1.291     0.9472      1.019        201        640: 100%|██████████| 4205/4205 [09:32<00:00,  7.34it/s]\n",
      "                 Class     Images  Instances      Box(P          R      mAP50  mAP50-95): 100%|██████████| 514/514 [01:34<00:00,  5.47it/s]\n"
     ]
    },
    {
     "name": "stdout",
     "output_type": "stream",
     "text": [
      "                   all      16444     135988      0.719      0.443      0.506      0.315\n",
      "\n",
      "      Epoch    GPU_mem   box_loss   cls_loss   dfl_loss  Instances       Size\n"
     ]
    },
    {
     "name": "stderr",
     "output_type": "stream",
     "text": [
      "     58/100      3.48G      1.289      0.948      1.019        217        640: 100%|██████████| 4205/4205 [10:52<00:00,  6.45it/s]\n",
      "                 Class     Images  Instances      Box(P          R      mAP50  mAP50-95): 100%|██████████| 514/514 [01:08<00:00,  7.48it/s]\n"
     ]
    },
    {
     "name": "stdout",
     "output_type": "stream",
     "text": [
      "                   all      16444     135988      0.716      0.445      0.507      0.316\n",
      "\n",
      "      Epoch    GPU_mem   box_loss   cls_loss   dfl_loss  Instances       Size\n"
     ]
    },
    {
     "name": "stderr",
     "output_type": "stream",
     "text": [
      "     59/100      3.89G      1.287     0.9433      1.019        188        640: 100%|██████████| 4205/4205 [08:02<00:00,  8.72it/s]\n",
      "                 Class     Images  Instances      Box(P          R      mAP50  mAP50-95): 100%|██████████| 514/514 [01:08<00:00,  7.49it/s]\n"
     ]
    },
    {
     "name": "stdout",
     "output_type": "stream",
     "text": [
      "                   all      16444     135988      0.716      0.446      0.507      0.316\n",
      "\n",
      "      Epoch    GPU_mem   box_loss   cls_loss   dfl_loss  Instances       Size\n"
     ]
    },
    {
     "name": "stderr",
     "output_type": "stream",
     "text": [
      "     60/100      3.63G      1.285     0.9411      1.018        332        640: 100%|██████████| 4205/4205 [08:02<00:00,  8.71it/s]\n",
      "                 Class     Images  Instances      Box(P          R      mAP50  mAP50-95): 100%|██████████| 514/514 [01:08<00:00,  7.51it/s]\n"
     ]
    },
    {
     "name": "stdout",
     "output_type": "stream",
     "text": [
      "                   all      16444     135988      0.714      0.448      0.508      0.317\n",
      "\n",
      "      Epoch    GPU_mem   box_loss   cls_loss   dfl_loss  Instances       Size\n"
     ]
    },
    {
     "name": "stderr",
     "output_type": "stream",
     "text": [
      "     61/100      3.46G      1.285     0.9413      1.019        224        640: 100%|██████████| 4205/4205 [08:02<00:00,  8.72it/s]\n",
      "                 Class     Images  Instances      Box(P          R      mAP50  mAP50-95): 100%|██████████| 514/514 [01:08<00:00,  7.49it/s]\n"
     ]
    },
    {
     "name": "stdout",
     "output_type": "stream",
     "text": [
      "                   all      16444     135988      0.713      0.449      0.509      0.317\n",
      "\n",
      "      Epoch    GPU_mem   box_loss   cls_loss   dfl_loss  Instances       Size\n"
     ]
    },
    {
     "name": "stderr",
     "output_type": "stream",
     "text": [
      "     62/100      3.56G      1.279     0.9353      1.017        150        640: 100%|██████████| 4205/4205 [08:02<00:00,  8.71it/s]\n",
      "                 Class     Images  Instances      Box(P          R      mAP50  mAP50-95): 100%|██████████| 514/514 [01:08<00:00,  7.49it/s]\n"
     ]
    },
    {
     "name": "stdout",
     "output_type": "stream",
     "text": [
      "                   all      16444     135988      0.714      0.449      0.509      0.318\n",
      "\n",
      "      Epoch    GPU_mem   box_loss   cls_loss   dfl_loss  Instances       Size\n"
     ]
    },
    {
     "name": "stderr",
     "output_type": "stream",
     "text": [
      "     63/100      3.01G      1.279     0.9352      1.016        254        640: 100%|██████████| 4205/4205 [08:03<00:00,  8.70it/s]\n",
      "                 Class     Images  Instances      Box(P          R      mAP50  mAP50-95): 100%|██████████| 514/514 [01:08<00:00,  7.51it/s]\n"
     ]
    },
    {
     "name": "stdout",
     "output_type": "stream",
     "text": [
      "                   all      16444     135988      0.712      0.451       0.51      0.318\n",
      "\n",
      "      Epoch    GPU_mem   box_loss   cls_loss   dfl_loss  Instances       Size\n"
     ]
    },
    {
     "name": "stderr",
     "output_type": "stream",
     "text": [
      "     64/100      3.07G      1.278      0.934      1.016        178        640: 100%|██████████| 4205/4205 [08:02<00:00,  8.72it/s]\n",
      "                 Class     Images  Instances      Box(P          R      mAP50  mAP50-95): 100%|██████████| 514/514 [01:08<00:00,  7.51it/s]\n"
     ]
    },
    {
     "name": "stdout",
     "output_type": "stream",
     "text": [
      "                   all      16444     135988      0.712      0.452      0.511      0.319\n",
      "\n",
      "      Epoch    GPU_mem   box_loss   cls_loss   dfl_loss  Instances       Size\n"
     ]
    },
    {
     "name": "stderr",
     "output_type": "stream",
     "text": [
      "     65/100      4.45G      1.276     0.9316      1.015        167        640: 100%|██████████| 4205/4205 [08:03<00:00,  8.70it/s]\n",
      "                 Class     Images  Instances      Box(P          R      mAP50  mAP50-95): 100%|██████████| 514/514 [01:08<00:00,  7.45it/s]\n"
     ]
    },
    {
     "name": "stdout",
     "output_type": "stream",
     "text": [
      "                   all      16444     135988      0.714      0.453      0.511      0.319\n",
      "\n",
      "      Epoch    GPU_mem   box_loss   cls_loss   dfl_loss  Instances       Size\n"
     ]
    },
    {
     "name": "stderr",
     "output_type": "stream",
     "text": [
      "     66/100      3.99G      1.275     0.9286      1.014        232        640: 100%|██████████| 4205/4205 [08:03<00:00,  8.69it/s]\n",
      "                 Class     Images  Instances      Box(P          R      mAP50  mAP50-95): 100%|██████████| 514/514 [01:08<00:00,  7.49it/s]\n"
     ]
    },
    {
     "name": "stdout",
     "output_type": "stream",
     "text": [
      "                   all      16444     135988      0.714      0.453      0.512       0.32\n",
      "\n",
      "      Epoch    GPU_mem   box_loss   cls_loss   dfl_loss  Instances       Size\n"
     ]
    },
    {
     "name": "stderr",
     "output_type": "stream",
     "text": [
      "     67/100      2.86G      1.272     0.9271      1.014        146        640: 100%|██████████| 4205/4205 [08:02<00:00,  8.72it/s]\n",
      "                 Class     Images  Instances      Box(P          R      mAP50  mAP50-95): 100%|██████████| 514/514 [01:08<00:00,  7.49it/s]\n"
     ]
    },
    {
     "name": "stdout",
     "output_type": "stream",
     "text": [
      "                   all      16444     135988      0.717      0.452      0.512       0.32\n",
      "\n",
      "      Epoch    GPU_mem   box_loss   cls_loss   dfl_loss  Instances       Size\n"
     ]
    },
    {
     "name": "stderr",
     "output_type": "stream",
     "text": [
      "     68/100      3.41G      1.268     0.9214      1.011        226        640: 100%|██████████| 4205/4205 [08:02<00:00,  8.71it/s]\n",
      "                 Class     Images  Instances      Box(P          R      mAP50  mAP50-95): 100%|██████████| 514/514 [01:08<00:00,  7.51it/s]\n"
     ]
    },
    {
     "name": "stdout",
     "output_type": "stream",
     "text": [
      "                   all      16444     135988       0.72      0.451      0.513      0.321\n",
      "\n",
      "      Epoch    GPU_mem   box_loss   cls_loss   dfl_loss  Instances       Size\n"
     ]
    },
    {
     "name": "stderr",
     "output_type": "stream",
     "text": [
      "     69/100      3.49G       1.27     0.9216      1.011        320        640: 100%|██████████| 4205/4205 [08:02<00:00,  8.71it/s]\n",
      "                 Class     Images  Instances      Box(P          R      mAP50  mAP50-95): 100%|██████████| 514/514 [01:08<00:00,  7.47it/s]\n"
     ]
    },
    {
     "name": "stdout",
     "output_type": "stream",
     "text": [
      "                   all      16444     135988      0.721      0.452      0.514      0.321\n",
      "\n",
      "      Epoch    GPU_mem   box_loss   cls_loss   dfl_loss  Instances       Size\n"
     ]
    },
    {
     "name": "stderr",
     "output_type": "stream",
     "text": [
      "     70/100      3.59G      1.265     0.9198       1.01        176        640: 100%|██████████| 4205/4205 [08:02<00:00,  8.71it/s]\n",
      "                 Class     Images  Instances      Box(P          R      mAP50  mAP50-95): 100%|██████████| 514/514 [01:08<00:00,  7.51it/s]\n"
     ]
    },
    {
     "name": "stdout",
     "output_type": "stream",
     "text": [
      "                   all      16444     135988      0.724      0.452      0.515      0.322\n",
      "\n",
      "      Epoch    GPU_mem   box_loss   cls_loss   dfl_loss  Instances       Size\n"
     ]
    },
    {
     "name": "stderr",
     "output_type": "stream",
     "text": [
      "     71/100      3.34G      1.263     0.9168      1.009        257        640: 100%|██████████| 4205/4205 [08:02<00:00,  8.71it/s]\n",
      "                 Class     Images  Instances      Box(P          R      mAP50  mAP50-95): 100%|██████████| 514/514 [01:08<00:00,  7.48it/s]\n"
     ]
    },
    {
     "name": "stdout",
     "output_type": "stream",
     "text": [
      "                   all      16444     135988      0.722      0.455      0.515      0.322\n",
      "\n",
      "      Epoch    GPU_mem   box_loss   cls_loss   dfl_loss  Instances       Size\n"
     ]
    },
    {
     "name": "stderr",
     "output_type": "stream",
     "text": [
      "     72/100      3.66G      1.262      0.915      1.009        156        640: 100%|██████████| 4205/4205 [08:02<00:00,  8.72it/s]\n",
      "                 Class     Images  Instances      Box(P          R      mAP50  mAP50-95): 100%|██████████| 514/514 [01:08<00:00,  7.51it/s]\n"
     ]
    },
    {
     "name": "stdout",
     "output_type": "stream",
     "text": [
      "                   all      16444     135988      0.724      0.456      0.516      0.323\n",
      "\n",
      "      Epoch    GPU_mem   box_loss   cls_loss   dfl_loss  Instances       Size\n"
     ]
    },
    {
     "name": "stderr",
     "output_type": "stream",
     "text": [
      "     73/100      3.08G      1.261     0.9119      1.009        193        640: 100%|██████████| 4205/4205 [08:03<00:00,  8.70it/s]\n",
      "                 Class     Images  Instances      Box(P          R      mAP50  mAP50-95): 100%|██████████| 514/514 [01:08<00:00,  7.49it/s]\n"
     ]
    },
    {
     "name": "stdout",
     "output_type": "stream",
     "text": [
      "                   all      16444     135988      0.726      0.455      0.517      0.323\n",
      "\n",
      "      Epoch    GPU_mem   box_loss   cls_loss   dfl_loss  Instances       Size\n"
     ]
    },
    {
     "name": "stderr",
     "output_type": "stream",
     "text": [
      "     74/100      4.04G      1.259     0.9105      1.008        139        640: 100%|██████████| 4205/4205 [08:02<00:00,  8.72it/s]\n",
      "                 Class     Images  Instances      Box(P          R      mAP50  mAP50-95): 100%|██████████| 514/514 [01:08<00:00,  7.49it/s]\n"
     ]
    },
    {
     "name": "stdout",
     "output_type": "stream",
     "text": [
      "                   all      16444     135988      0.726      0.454      0.517      0.324\n",
      "\n",
      "      Epoch    GPU_mem   box_loss   cls_loss   dfl_loss  Instances       Size\n"
     ]
    },
    {
     "name": "stderr",
     "output_type": "stream",
     "text": [
      "     75/100       3.5G      1.254     0.9058      1.006        211        640: 100%|██████████| 4205/4205 [08:02<00:00,  8.71it/s]\n",
      "                 Class     Images  Instances      Box(P          R      mAP50  mAP50-95): 100%|██████████| 514/514 [01:08<00:00,  7.51it/s]\n"
     ]
    },
    {
     "name": "stdout",
     "output_type": "stream",
     "text": [
      "                   all      16444     135988      0.726      0.457      0.518      0.324\n",
      "\n",
      "      Epoch    GPU_mem   box_loss   cls_loss   dfl_loss  Instances       Size\n"
     ]
    },
    {
     "name": "stderr",
     "output_type": "stream",
     "text": [
      "     76/100      3.06G      1.253     0.9053      1.006        199        640: 100%|██████████| 4205/4205 [08:02<00:00,  8.72it/s]\n",
      "                 Class     Images  Instances      Box(P          R      mAP50  mAP50-95): 100%|██████████| 514/514 [01:08<00:00,  7.53it/s]\n"
     ]
    },
    {
     "name": "stdout",
     "output_type": "stream",
     "text": [
      "                   all      16444     135988      0.727      0.457      0.519      0.325\n",
      "\n",
      "      Epoch    GPU_mem   box_loss   cls_loss   dfl_loss  Instances       Size\n"
     ]
    },
    {
     "name": "stderr",
     "output_type": "stream",
     "text": [
      "     77/100      3.66G       1.25     0.9018      1.005        161        640: 100%|██████████| 4205/4205 [08:02<00:00,  8.72it/s]\n",
      "                 Class     Images  Instances      Box(P          R      mAP50  mAP50-95): 100%|██████████| 514/514 [01:08<00:00,  7.49it/s]\n"
     ]
    },
    {
     "name": "stdout",
     "output_type": "stream",
     "text": [
      "                   all      16444     135988      0.633      0.459      0.519      0.325\n",
      "\n",
      "      Epoch    GPU_mem   box_loss   cls_loss   dfl_loss  Instances       Size\n"
     ]
    },
    {
     "name": "stderr",
     "output_type": "stream",
     "text": [
      "     78/100      4.39G       1.25     0.8996      1.003        207        640: 100%|██████████| 4205/4205 [08:02<00:00,  8.72it/s]\n",
      "                 Class     Images  Instances      Box(P          R      mAP50  mAP50-95): 100%|██████████| 514/514 [01:08<00:00,  7.50it/s]\n"
     ]
    },
    {
     "name": "stdout",
     "output_type": "stream",
     "text": [
      "                   all      16444     135988      0.637      0.456       0.52      0.325\n",
      "\n",
      "      Epoch    GPU_mem   box_loss   cls_loss   dfl_loss  Instances       Size\n"
     ]
    },
    {
     "name": "stderr",
     "output_type": "stream",
     "text": [
      "     79/100      3.99G      1.248     0.8985      1.004        279        640: 100%|██████████| 4205/4205 [08:03<00:00,  8.70it/s]\n",
      "                 Class     Images  Instances      Box(P          R      mAP50  mAP50-95): 100%|██████████| 514/514 [01:08<00:00,  7.49it/s]\n"
     ]
    },
    {
     "name": "stdout",
     "output_type": "stream",
     "text": [
      "                   all      16444     135988      0.641      0.455      0.521      0.326\n",
      "\n",
      "      Epoch    GPU_mem   box_loss   cls_loss   dfl_loss  Instances       Size\n"
     ]
    },
    {
     "name": "stderr",
     "output_type": "stream",
     "text": [
      "     80/100      3.76G      1.244     0.8951      1.002        265        640: 100%|██████████| 4205/4205 [08:03<00:00,  8.70it/s]\n",
      "                 Class     Images  Instances      Box(P          R      mAP50  mAP50-95): 100%|██████████| 514/514 [01:08<00:00,  7.50it/s]\n"
     ]
    },
    {
     "name": "stdout",
     "output_type": "stream",
     "text": [
      "                   all      16444     135988      0.639      0.457      0.521      0.327\n",
      "\n",
      "      Epoch    GPU_mem   box_loss   cls_loss   dfl_loss  Instances       Size\n"
     ]
    },
    {
     "name": "stderr",
     "output_type": "stream",
     "text": [
      "     81/100      4.45G      1.243     0.8923      1.001        228        640: 100%|██████████| 4205/4205 [08:04<00:00,  8.69it/s]\n",
      "                 Class     Images  Instances      Box(P          R      mAP50  mAP50-95): 100%|██████████| 514/514 [01:08<00:00,  7.49it/s]\n"
     ]
    },
    {
     "name": "stdout",
     "output_type": "stream",
     "text": [
      "                   all      16444     135988      0.638      0.457      0.522      0.327\n",
      "\n",
      "      Epoch    GPU_mem   box_loss   cls_loss   dfl_loss  Instances       Size\n"
     ]
    },
    {
     "name": "stderr",
     "output_type": "stream",
     "text": [
      "     82/100      3.62G       1.24     0.8879          1        152        640: 100%|██████████| 4205/4205 [08:05<00:00,  8.66it/s]\n",
      "                 Class     Images  Instances      Box(P          R      mAP50  mAP50-95): 100%|██████████| 514/514 [01:08<00:00,  7.49it/s]\n"
     ]
    },
    {
     "name": "stdout",
     "output_type": "stream",
     "text": [
      "                   all      16444     135988      0.637      0.459      0.523      0.328\n",
      "\n",
      "      Epoch    GPU_mem   box_loss   cls_loss   dfl_loss  Instances       Size\n"
     ]
    },
    {
     "name": "stderr",
     "output_type": "stream",
     "text": [
      "     83/100      4.49G      1.236      0.885      1.001        250        640: 100%|██████████| 4205/4205 [08:03<00:00,  8.69it/s]\n",
      "                 Class     Images  Instances      Box(P          R      mAP50  mAP50-95): 100%|██████████| 514/514 [01:08<00:00,  7.46it/s]\n"
     ]
    },
    {
     "name": "stdout",
     "output_type": "stream",
     "text": [
      "                   all      16444     135988      0.638      0.459      0.523      0.328\n",
      "\n",
      "      Epoch    GPU_mem   box_loss   cls_loss   dfl_loss  Instances       Size\n"
     ]
    },
    {
     "name": "stderr",
     "output_type": "stream",
     "text": [
      "     84/100      3.62G      1.234      0.882     0.9985        283        640: 100%|██████████| 4205/4205 [08:03<00:00,  8.69it/s]\n",
      "                 Class     Images  Instances      Box(P          R      mAP50  mAP50-95): 100%|██████████| 514/514 [01:09<00:00,  7.40it/s]\n"
     ]
    },
    {
     "name": "stdout",
     "output_type": "stream",
     "text": [
      "                   all      16444     135988      0.637       0.46      0.524      0.329\n",
      "\n",
      "      Epoch    GPU_mem   box_loss   cls_loss   dfl_loss  Instances       Size\n"
     ]
    },
    {
     "name": "stderr",
     "output_type": "stream",
     "text": [
      "     85/100      3.78G      1.232     0.8798     0.9978        198        640: 100%|██████████| 4205/4205 [08:03<00:00,  8.70it/s]\n",
      "                 Class     Images  Instances      Box(P          R      mAP50  mAP50-95): 100%|██████████| 514/514 [01:08<00:00,  7.50it/s]\n"
     ]
    },
    {
     "name": "stdout",
     "output_type": "stream",
     "text": [
      "                   all      16444     135988      0.639       0.46      0.524      0.329\n",
      "\n",
      "      Epoch    GPU_mem   box_loss   cls_loss   dfl_loss  Instances       Size\n"
     ]
    },
    {
     "name": "stderr",
     "output_type": "stream",
     "text": [
      "     86/100      4.01G      1.229     0.8774     0.9962        217        640: 100%|██████████| 4205/4205 [08:03<00:00,  8.69it/s]\n",
      "                 Class     Images  Instances      Box(P          R      mAP50  mAP50-95): 100%|██████████| 514/514 [01:08<00:00,  7.49it/s]\n"
     ]
    },
    {
     "name": "stdout",
     "output_type": "stream",
     "text": [
      "                   all      16444     135988      0.639      0.462      0.525       0.33\n",
      "\n",
      "      Epoch    GPU_mem   box_loss   cls_loss   dfl_loss  Instances       Size\n"
     ]
    },
    {
     "name": "stderr",
     "output_type": "stream",
     "text": [
      "     87/100      4.67G      1.225     0.8738      0.995        234        640: 100%|██████████| 4205/4205 [08:04<00:00,  8.67it/s]\n",
      "                 Class     Images  Instances      Box(P          R      mAP50  mAP50-95): 100%|██████████| 514/514 [01:08<00:00,  7.47it/s]\n"
     ]
    },
    {
     "name": "stdout",
     "output_type": "stream",
     "text": [
      "                   all      16444     135988      0.662      0.463      0.526       0.33\n",
      "\n",
      "      Epoch    GPU_mem   box_loss   cls_loss   dfl_loss  Instances       Size\n"
     ]
    },
    {
     "name": "stderr",
     "output_type": "stream",
     "text": [
      "     88/100      3.99G      1.223     0.8726      0.994        188        640: 100%|██████████| 4205/4205 [08:03<00:00,  8.69it/s]\n",
      "                 Class     Images  Instances      Box(P          R      mAP50  mAP50-95): 100%|██████████| 514/514 [01:08<00:00,  7.52it/s]\n"
     ]
    },
    {
     "name": "stdout",
     "output_type": "stream",
     "text": [
      "                   all      16444     135988      0.665      0.461      0.526       0.33\n",
      "\n",
      "      Epoch    GPU_mem   box_loss   cls_loss   dfl_loss  Instances       Size\n"
     ]
    },
    {
     "name": "stderr",
     "output_type": "stream",
     "text": [
      "     89/100      3.51G       1.22     0.8667     0.9933        223        640: 100%|██████████| 4205/4205 [08:04<00:00,  8.68it/s]\n",
      "                 Class     Images  Instances      Box(P          R      mAP50  mAP50-95): 100%|██████████| 514/514 [01:08<00:00,  7.49it/s]\n"
     ]
    },
    {
     "name": "stdout",
     "output_type": "stream",
     "text": [
      "                   all      16444     135988      0.661      0.462      0.527      0.331\n",
      "\n",
      "      Epoch    GPU_mem   box_loss   cls_loss   dfl_loss  Instances       Size\n"
     ]
    },
    {
     "name": "stderr",
     "output_type": "stream",
     "text": [
      "     90/100      3.47G      1.218     0.8643     0.9923        187        640: 100%|██████████| 4205/4205 [08:03<00:00,  8.69it/s]\n",
      "                 Class     Images  Instances      Box(P          R      mAP50  mAP50-95): 100%|██████████| 514/514 [01:08<00:00,  7.49it/s]\n"
     ]
    },
    {
     "name": "stdout",
     "output_type": "stream",
     "text": [
      "                   all      16444     135988      0.669      0.463      0.528      0.331\n",
      "Closing dataloader mosaic\n",
      "\n",
      "      Epoch    GPU_mem   box_loss   cls_loss   dfl_loss  Instances       Size\n"
     ]
    },
    {
     "name": "stderr",
     "output_type": "stream",
     "text": [
      "     91/100         3G      1.216     0.8485     0.9917        126        640: 100%|██████████| 4205/4205 [07:44<00:00,  9.05it/s]\n",
      "                 Class     Images  Instances      Box(P          R      mAP50  mAP50-95): 100%|██████████| 514/514 [01:08<00:00,  7.49it/s]\n"
     ]
    },
    {
     "name": "stdout",
     "output_type": "stream",
     "text": [
      "                   all      16444     135988      0.674      0.463      0.528      0.331\n",
      "\n",
      "      Epoch    GPU_mem   box_loss   cls_loss   dfl_loss  Instances       Size\n"
     ]
    },
    {
     "name": "stderr",
     "output_type": "stream",
     "text": [
      "     92/100      2.77G       1.21     0.8412     0.9889        101        640: 100%|██████████| 4205/4205 [07:44<00:00,  9.05it/s]\n",
      "                 Class     Images  Instances      Box(P          R      mAP50  mAP50-95): 100%|██████████| 514/514 [01:08<00:00,  7.53it/s]\n"
     ]
    },
    {
     "name": "stdout",
     "output_type": "stream",
     "text": [
      "                   all      16444     135988      0.673      0.463      0.528      0.332\n",
      "\n",
      "      Epoch    GPU_mem   box_loss   cls_loss   dfl_loss  Instances       Size\n"
     ]
    },
    {
     "name": "stderr",
     "output_type": "stream",
     "text": [
      "     93/100      3.33G      1.206     0.8355     0.9875        100        640: 100%|██████████| 4205/4205 [07:43<00:00,  9.06it/s]\n",
      "                 Class     Images  Instances      Box(P          R      mAP50  mAP50-95): 100%|██████████| 514/514 [01:08<00:00,  7.48it/s]\n"
     ]
    },
    {
     "name": "stdout",
     "output_type": "stream",
     "text": [
      "                   all      16444     135988      0.671      0.464      0.529      0.332\n",
      "\n",
      "      Epoch    GPU_mem   box_loss   cls_loss   dfl_loss  Instances       Size\n"
     ]
    },
    {
     "name": "stderr",
     "output_type": "stream",
     "text": [
      "     94/100      3.42G      1.201     0.8294     0.9859         56        640: 100%|██████████| 4205/4205 [07:44<00:00,  9.06it/s]\n",
      "                 Class     Images  Instances      Box(P          R      mAP50  mAP50-95): 100%|██████████| 514/514 [01:08<00:00,  7.54it/s]\n"
     ]
    },
    {
     "name": "stdout",
     "output_type": "stream",
     "text": [
      "                   all      16444     135988      0.679      0.463      0.529      0.332\n",
      "\n",
      "      Epoch    GPU_mem   box_loss   cls_loss   dfl_loss  Instances       Size\n"
     ]
    },
    {
     "name": "stderr",
     "output_type": "stream",
     "text": [
      "     95/100      3.17G      1.198     0.8259     0.9839        117        640: 100%|██████████| 4205/4205 [07:43<00:00,  9.07it/s]\n",
      "                 Class     Images  Instances      Box(P          R      mAP50  mAP50-95): 100%|██████████| 514/514 [01:08<00:00,  7.51it/s]\n"
     ]
    },
    {
     "name": "stdout",
     "output_type": "stream",
     "text": [
      "                   all      16444     135988      0.677      0.465      0.529      0.333\n",
      "\n",
      "      Epoch    GPU_mem   box_loss   cls_loss   dfl_loss  Instances       Size\n"
     ]
    },
    {
     "name": "stderr",
     "output_type": "stream",
     "text": [
      "     96/100      2.96G      1.192     0.8202     0.9828         81        640: 100%|██████████| 4205/4205 [07:43<00:00,  9.06it/s]\n",
      "                 Class     Images  Instances      Box(P          R      mAP50  mAP50-95): 100%|██████████| 514/514 [01:08<00:00,  7.53it/s]\n"
     ]
    },
    {
     "name": "stdout",
     "output_type": "stream",
     "text": [
      "                   all      16444     135988      0.679      0.464       0.53      0.333\n",
      "\n",
      "      Epoch    GPU_mem   box_loss   cls_loss   dfl_loss  Instances       Size\n"
     ]
    },
    {
     "name": "stderr",
     "output_type": "stream",
     "text": [
      "     97/100      2.96G       1.19     0.8168     0.9819        146        640: 100%|██████████| 4205/4205 [07:44<00:00,  9.06it/s]\n",
      "                 Class     Images  Instances      Box(P          R      mAP50  mAP50-95): 100%|██████████| 514/514 [01:08<00:00,  7.50it/s]\n"
     ]
    },
    {
     "name": "stdout",
     "output_type": "stream",
     "text": [
      "                   all      16444     135988      0.677      0.465       0.53      0.333\n",
      "\n",
      "      Epoch    GPU_mem   box_loss   cls_loss   dfl_loss  Instances       Size\n"
     ]
    },
    {
     "name": "stderr",
     "output_type": "stream",
     "text": [
      "     98/100      2.76G      1.185      0.811     0.9798        161        640: 100%|██████████| 4205/4205 [07:43<00:00,  9.07it/s]\n",
      "                 Class     Images  Instances      Box(P          R      mAP50  mAP50-95): 100%|██████████| 514/514 [01:08<00:00,  7.50it/s]\n"
     ]
    },
    {
     "name": "stdout",
     "output_type": "stream",
     "text": [
      "                   all      16444     135988      0.676      0.466      0.531      0.334\n",
      "\n",
      "      Epoch    GPU_mem   box_loss   cls_loss   dfl_loss  Instances       Size\n"
     ]
    },
    {
     "name": "stderr",
     "output_type": "stream",
     "text": [
      "     99/100       3.5G      1.179     0.8058     0.9782         82        640: 100%|██████████| 4205/4205 [07:43<00:00,  9.07it/s]\n",
      "                 Class     Images  Instances      Box(P          R      mAP50  mAP50-95): 100%|██████████| 514/514 [01:08<00:00,  7.49it/s]\n"
     ]
    },
    {
     "name": "stdout",
     "output_type": "stream",
     "text": [
      "                   all      16444     135988      0.677      0.466      0.531      0.334\n",
      "\n",
      "      Epoch    GPU_mem   box_loss   cls_loss   dfl_loss  Instances       Size\n"
     ]
    },
    {
     "name": "stderr",
     "output_type": "stream",
     "text": [
      "    100/100      2.97G      1.174     0.8033     0.9762        118        640: 100%|██████████| 4205/4205 [07:43<00:00,  9.07it/s]\n",
      "                 Class     Images  Instances      Box(P          R      mAP50  mAP50-95): 100%|██████████| 514/514 [01:08<00:00,  7.49it/s]\n"
     ]
    },
    {
     "name": "stdout",
     "output_type": "stream",
     "text": [
      "                   all      16444     135988      0.681      0.466      0.531      0.334\n",
      "\n",
      "100 epochs completed in 16.051 hours.\n",
      "Optimizer stripped from runs\\detect\\yolov5n_nuimages\\weights\\last.pt, 5.3MB\n",
      "Optimizer stripped from runs\\detect\\yolov5n_nuimages\\weights\\best.pt, 5.3MB\n",
      "\n",
      "Validating runs\\detect\\yolov5n_nuimages\\weights\\best.pt...\n",
      "Ultralytics 8.3.25  Python-3.12.7 torch-2.5.1+cu124 CUDA:0 (NVIDIA GeForce RTX 4060, 8187MiB)\n",
      "YOLOv5n summary (fused): 193 layers, 2,505,284 parameters, 0 gradients, 7.1 GFLOPs\n"
     ]
    },
    {
     "name": "stderr",
     "output_type": "stream",
     "text": [
      "                 Class     Images  Instances      Box(P          R      mAP50  mAP50-95): 100%|██████████| 514/514 [01:37<00:00,  5.27it/s]\n"
     ]
    },
    {
     "name": "stdout",
     "output_type": "stream",
     "text": [
      "                   all      16444     135988       0.68      0.466      0.531      0.334\n",
      "                 child        189        251       0.42     0.0289     0.0309     0.0164\n",
      "            pedestrian       8466      32459      0.732      0.468      0.555       0.29\n",
      "        movable_object       3782      20391      0.703      0.566      0.624      0.389\n",
      "           trafficcone       4526      18587       0.79      0.613      0.686      0.388\n",
      "               bicycle       2341       3352      0.725      0.568      0.639      0.403\n",
      "                   bus       1511       1885      0.764      0.444      0.543      0.401\n",
      "     emergency_vehicle      10901      47322      0.759      0.714       0.78      0.539\n",
      "            motorcycle       2330       3097      0.746      0.641      0.714      0.452\n",
      "  construction_vehicle       1110       1301      0.625      0.364      0.426      0.222\n",
      "               trailer        366        486      0.531       0.23      0.273      0.169\n",
      "                 truck       4436       6857      0.688      0.492      0.573      0.403\n",
      "Speed: 0.2ms preprocess, 1.1ms inference, 0.0ms loss, 0.8ms postprocess per image\n",
      "Results saved to \u001b[1mruns\\detect\\yolov5n_nuimages\u001b[0m\n"
     ]
    }
   ],
   "source": [
    "model = YOLO('yolov5n.pt')  # Altere para 'yolov5m.pt', 'yolov5l.pt', ou 'yolov5x.pt' para modelos maiores\n",
    "\n",
    "results = model.train(\n",
    "    data=yaml_path,     # Caminho para o arquivo de configuração do dataset\n",
    "    imgsz=640,          # Tamanho das imagens\n",
    "    epochs=100,          # Número de épocas\n",
    "    batch=16,           # Tamanho do lote (ajuste conforme a memória disponível)\n",
    "    name='yolov5n_nuimages',\n",
    "    patience=10\n",
    ")"
   ]
  }
 ],
 "metadata": {
  "accelerator": "GPU",
  "colab": {
   "gpuType": "T4",
   "machine_shape": "hm",
   "provenance": []
  },
  "kernelspec": {
   "display_name": "Python 3",
   "name": "python3"
  },
  "language_info": {
   "codemirror_mode": {
    "name": "ipython",
    "version": 3
   },
   "file_extension": ".py",
   "mimetype": "text/x-python",
   "name": "python",
   "nbconvert_exporter": "python",
   "pygments_lexer": "ipython3",
   "version": "3.12.7"
  }
 },
 "nbformat": 4,
 "nbformat_minor": 0
}
